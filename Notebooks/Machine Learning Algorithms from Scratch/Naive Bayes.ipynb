{
 "cells": [
  {
   "cell_type": "markdown",
   "id": "a6ec9a48-1458-4f53-8350-dc39586e50b9",
   "metadata": {},
   "source": [
    "## Bayes Theorem\n",
    "\n",
    "### $P(y|X) = \\frac{P(X|y)P(y)}{P(X)}$\n",
    "\n",
    "### $X = (x_1, x_2. x_3, \\ldots, x_n)$\n",
    "\n",
    "### Assume that all features are mutually independent. Use chain rule for $P(X|y)$\n",
    "\n",
    "### $P(y|X)=\\frac{P(x_1|y)\\cdot P(x_1|y)\\cdot \\ldots \\cdot P(X_n|y)\\cdot P(y)}{P(x)}$\n",
    "\n",
    "$P(y|X)$ is the posterior probability\n",
    "\n",
    "$P(X|y)$ is the class conditional probability\n",
    "\n",
    "$P(y)$ is the prior probability of y\n",
    "\n",
    "### Select the class with highest probability\n",
    "\n",
    "### $y = argmax_yP(y|X)=argmax_y=\\frac{P(x_1|y)\\cdot P(x_1|y)\\cdot \\ldots \\cdot P(X_n|y)\\cdot P(y)}{P(x)}$\n",
    "\n",
    "we don't need $P(X)$ and we apply log to combat floating point problems\n",
    "\n",
    "### $y = argmax_yP(y|X)=argmax_ylog(P(x_1|y))+log(P(x_2|y))+ \\ldots + log(P(x_n|y)) + log(P(y)))$\n",
    "\n",
    "### Class conditional probability is modelled with a gaussian distribution\n",
    "\n",
    "### $P(x_i|y)=\\frac{1}{\\sqrt{2\\pi \\sigma^{2}_{y}}} exp(- \\frac{(x_i-\\mu_y)^2}{2\\sigma^{2}_{y}})$"
   ]
  },
  {
   "cell_type": "code",
   "execution_count": 3,
   "id": "96f79b0a-e49e-4b84-9b3a-fd7d7a6e429b",
   "metadata": {},
   "outputs": [],
   "source": [
    "import numpy as np\n",
    "\n",
    "\n",
    "class NaiveBayes:\n",
    "    def fit(self, X, y):\n",
    "        n_samples, n_features = X.shape\n",
    "        self._classes = np.unique(y)\n",
    "        n_classes = len(self._classes)\n",
    "\n",
    "        # calculate mean, var, and prior for each class\n",
    "        self._mean = np.zeros((n_classes, n_features), dtype=np.float64)\n",
    "        self._var = np.zeros((n_classes, n_features), dtype=np.float64)\n",
    "        self._priors = np.zeros(n_classes, dtype=np.float64)\n",
    "\n",
    "        for idx, c in enumerate(self._classes):\n",
    "            X_c = X[y == c]\n",
    "            self._mean[idx, :] = X_c.mean(axis=0)\n",
    "            self._var[idx, :] = X_c.var(axis=0)\n",
    "            self._priors[idx] = X_c.shape[0] / float(n_samples)\n",
    "\n",
    "    def predict(self, X):\n",
    "        y_pred = [self._predict(x) for x in X]\n",
    "        return np.array(y_pred)\n",
    "\n",
    "    def _predict(self, x):\n",
    "        posteriors = []\n",
    "\n",
    "        # calculate posterior probability for each class\n",
    "        for idx, c in enumerate(self._classes):\n",
    "            prior = np.log(self._priors[idx])\n",
    "            class_conditional = np.sum(np.log(self._pdf(idx, x)))\n",
    "            posterior = prior + class_conditional\n",
    "            posteriors.append(posterior)\n",
    "\n",
    "        # return class with highest posterior probability\n",
    "        return self._classes[np.argmax(posteriors)]\n",
    "\n",
    "    def _pdf(self, class_idx, x):\n",
    "        mean = self._mean[class_idx]\n",
    "        var = self._var[class_idx]\n",
    "        numerator = np.exp(-((x - mean) ** 2) / (2 * var))\n",
    "        denominator = np.sqrt(2 * np.pi * var)\n",
    "        return numerator / denominator\n"
   ]
  },
  {
   "cell_type": "markdown",
   "id": "022a4550-fae2-4e4e-b8bd-e7e424b0c1da",
   "metadata": {},
   "source": [
    "## Testing"
   ]
  },
  {
   "cell_type": "code",
   "execution_count": 4,
   "id": "89101c42-d41f-4325-8afb-5d1abfce3abf",
   "metadata": {},
   "outputs": [
    {
     "name": "stdout",
     "output_type": "stream",
     "text": [
      "Naive Bayes classification accuracy 0.965\n"
     ]
    }
   ],
   "source": [
    "from sklearn.model_selection import train_test_split\n",
    "from sklearn import datasets\n",
    "\n",
    "def accuracy(y_true, y_pred):\n",
    "    accuracy = np.sum(y_true == y_pred) / len(y_true)\n",
    "    return accuracy\n",
    "\n",
    "X, y = datasets.make_classification(\n",
    "    n_samples=1000, n_features=10, n_classes=2, random_state=123\n",
    ")\n",
    "X_train, X_test, y_train, y_test = train_test_split(\n",
    "    X, y, test_size=0.2, random_state=123\n",
    ")\n",
    "\n",
    "nb = NaiveBayes()\n",
    "nb.fit(X_train, y_train)\n",
    "predictions = nb.predict(X_test)\n",
    "\n",
    "print(\"Naive Bayes classification accuracy\", accuracy(y_test, predictions))"
   ]
  },
  {
   "cell_type": "markdown",
   "id": "6796da40-0eb9-47b6-b06b-81effec70e71",
   "metadata": {},
   "source": [
    "Source: https://www.youtube.com/watch?v=rLOyrWV8gmA"
   ]
  }
 ],
 "metadata": {
  "kernelspec": {
   "display_name": "Python 3 (ipykernel)",
   "language": "python",
   "name": "python3"
  },
  "language_info": {
   "codemirror_mode": {
    "name": "ipython",
    "version": 3
   },
   "file_extension": ".py",
   "mimetype": "text/x-python",
   "name": "python",
   "nbconvert_exporter": "python",
   "pygments_lexer": "ipython3",
   "version": "3.7.11"
  }
 },
 "nbformat": 4,
 "nbformat_minor": 5
}
