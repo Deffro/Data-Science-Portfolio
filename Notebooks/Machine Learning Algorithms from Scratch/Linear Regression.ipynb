{
 "cells": [
  {
   "cell_type": "markdown",
   "id": "ec835d93-5d82-4031-a4b4-43754ca2a1a0",
   "metadata": {},
   "source": [
    "### Approximation\n",
    "$\\hat{y}=wx+b$\n",
    "\n",
    "### Cost Function\n",
    "$MSE=J(w,b)=\\frac{1}{N} \\sum_{n=1}^{n} (y_i - (wx_i + b))^2$\n",
    "\n",
    "### Derivative or Gradient\n",
    "With respect to w: $dw=\\frac{1}{N} \\sum_{n=1}^{n} -2x_i(y_i - (wx_i + b)) = \\frac{1}{N} \\sum_{n=1}^{n} 2x_i(\\hat{y} -y_i)$\n",
    "\n",
    "With respect to b: $db=\\frac{1}{N} \\sum_{n=1}^{n} -2(y_i - (wx_i + b))= \\frac{1}{N} \\sum_{n=1}^{n} 2(\\hat{y} -y_i)$\n",
    "\n",
    "<img src=\"imgs/gradient_descent.png\">\n",
    "\n",
    "### Update Rules\n",
    "$w = w - a \\cdot dw$\n",
    "\n",
    "$b = b - a \\cdot db$"
   ]
  },
  {
   "cell_type": "markdown",
   "id": "3ac5a343-e512-4f6e-917e-2ce7a07742ca",
   "metadata": {},
   "source": [
    "## Implementation"
   ]
  },
  {
   "cell_type": "code",
   "execution_count": 113,
   "id": "34f6c11a-85ad-4d88-a3a1-c93a2d986454",
   "metadata": {},
   "outputs": [],
   "source": [
    "import numpy as np\n",
    "\n",
    "class LinearRegression:\n",
    "    def __init__(self, learning_rate=0.01, n_iters=1000):\n",
    "        self.lr = learning_rate\n",
    "        self.n_iters = n_iters\n",
    "        self.weights = None\n",
    "        self.bias = None\n",
    "        \n",
    "    def fit(self, X, y):\n",
    "        n_samples, n_features = X.shape\n",
    "\n",
    "        # init parameters\n",
    "        self.weights = np.zeros(n_features)\n",
    "        self.bias = 0\n",
    "\n",
    "        # gradient descent\n",
    "        for _ in range(self.n_iters):\n",
    "            y_predicted = np.dot(X, self.weights) + self.bias # y=wx+b\n",
    "            # compute gradients\n",
    "            dw = (1 / n_samples) * np.dot(X.T, (y_predicted - y))\n",
    "            db = (1 / n_samples) * np.sum(y_predicted - y)\n",
    "\n",
    "            # update parameters\n",
    "            self.weights -= self.lr * dw\n",
    "            self.bias -= self.lr * db        \n",
    "        \n",
    "        \n",
    "    def predict(self, X):\n",
    "        y_approximated = np.dot(X, self.weights) + self.bias\n",
    "        return y_approximated        "
   ]
  },
  {
   "cell_type": "markdown",
   "id": "8b3bc40b-82ea-402f-a813-df293c13d686",
   "metadata": {},
   "source": [
    "## Testing"
   ]
  },
  {
   "cell_type": "code",
   "execution_count": 112,
   "id": "609872bf-6eda-4fc2-82ef-3554c051a8ea",
   "metadata": {},
   "outputs": [
    {
     "name": "stdout",
     "output_type": "stream",
     "text": [
      "MSE: 305.7719958301902\n",
      "R2 Score: 0.9253717934621964\n"
     ]
    },
    {
     "data": {
      "image/png": "[encoded data removed]",
      "text/plain": [
       "<Figure size 576x432 with 1 Axes>"
      ]
     },
     "metadata": {
      "needs_background": "light"
     },
     "output_type": "display_data"
    }
   ],
   "source": [
    "import matplotlib.pyplot as plt\n",
    "from sklearn.model_selection import train_test_split\n",
    "from sklearn import datasets\n",
    "\n",
    "def r2_score(y_true, y_pred):\n",
    "    corr_matrix = np.corrcoef(y_true, y_pred)\n",
    "    corr = corr_matrix[0, 1]\n",
    "    return corr ** 2\n",
    "\n",
    "def mean_squared_error(y_true, y_pred):\n",
    "    return np.mean((y_true - y_pred) ** 2)\n",
    "\n",
    "X, y = datasets.make_regression(\n",
    "    n_samples=100, n_features=1, noise=20, random_state=4\n",
    ")\n",
    "\n",
    "X_train, X_test, y_train, y_test = train_test_split(\n",
    "    X, y, test_size=0.2, random_state=1234\n",
    ")\n",
    "\n",
    "regressor = LinearRegression(learning_rate=0.01, n_iters=1000)\n",
    "regressor.fit(X_train, y_train)\n",
    "predictions = regressor.predict(X_test)\n",
    "\n",
    "mse = mean_squared_error(y_test, predictions)\n",
    "print(\"MSE:\", mse)\n",
    "\n",
    "accu = r2_score(y_test, predictions)\n",
    "print(\"R2 Score:\", accu)\n",
    "\n",
    "y_pred_line = regressor.predict(X)\n",
    "cmap = plt.get_cmap(\"viridis\")\n",
    "fig = plt.figure(figsize=(8, 6))\n",
    "m1 = plt.scatter(X_train, y_train, color=cmap(0.9), s=10)\n",
    "m2 = plt.scatter(X_test, y_test, color=cmap(0.5), s=10)\n",
    "plt.plot(X, y_pred_line, color=\"black\", linewidth=2, label=\"Prediction\")\n",
    "plt.show()"
   ]
  },
  {
   "cell_type": "markdown",
   "id": "23d273eb-3215-47f7-a458-bdc38489079e",
   "metadata": {},
   "source": [
    "Source: https://www.youtube.com/watch?v=rLOyrWV8gmA"
   ]
  }
 ],
 "metadata": {
  "kernelspec": {
   "display_name": "Python 3 (ipykernel)",
   "language": "python",
   "name": "python3"
  },
  "language_info": {
   "codemirror_mode": {
    "name": "ipython",
    "version": 3
   },
   "file_extension": ".py",
   "mimetype": "text/x-python",
   "name": "python",
   "nbconvert_exporter": "python",
   "pygments_lexer": "ipython3",
   "version": "3.7.11"
  }
 },
 "nbformat": 4,
 "nbformat_minor": 5
}
