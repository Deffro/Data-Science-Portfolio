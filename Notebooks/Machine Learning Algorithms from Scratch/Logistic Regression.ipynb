{
 "cells": [
  {
   "cell_type": "markdown",
   "id": "ee053ac1-fd9a-4657-85a6-ea76362e6196",
   "metadata": {},
   "source": [
    "### Approximation\n",
    "\n",
    "$f(w, b) = wx+b$\n",
    "\n",
    "Apply the sigmoid function to this:\n",
    "\n",
    "$\\hat{y} = h_\\theta (x) = \\frac{1}{1+e^{-wx+b}}$\n",
    "\n",
    "### Sigmoid Function\n",
    "\n",
    "<img src=\"imgs/sigmoid.png\">\n",
    "\n",
    "### Const Function - Cross Entropy\n",
    "\n",
    "$J(w, b) = \\frac{1}{N} \\sum_{n=1}^{n}[y^ilog(h_\\theta (x^i)) + (1-y^i)log(1-h_\\theta (x^i))]$\n",
    "\n",
    "### Derivative or Gradient\n",
    "With respect to w: $dw = \\frac{1}{N} \\sum_{n=1}^{n} 2x_i(\\hat{y} -y_i)$\n",
    "\n",
    "With respect to b: $db = \\frac{1}{N} \\sum_{n=1}^{n} 2(\\hat{y} -y_i)$\n",
    "\n",
    "### Update Rules\n",
    "$w = w - a \\cdot dw$\n",
    "\n",
    "$b = b - a \\cdot db$"
   ]
  },
  {
   "cell_type": "code",
   "execution_count": null,
   "id": "759509a0-947b-405d-abe9-ff14ac0e91ed",
   "metadata": {},
   "outputs": [],
   "source": []
  },
  {
   "cell_type": "code",
   "execution_count": 1,
   "id": "97426f23-8b4f-411a-ad51-d95c74128b89",
   "metadata": {},
   "outputs": [],
   "source": [
    "import numpy as np\n",
    "\n",
    "\n",
    "class LogisticRegression:\n",
    "    def __init__(self, learning_rate=0.001, n_iters=1000):\n",
    "        self.lr = learning_rate\n",
    "        self.n_iters = n_iters\n",
    "        self.weights = None\n",
    "        self.bias = None\n",
    "        \n",
    "    def _sigmoid(self, x):\n",
    "        return 1 / (1 + np.exp(-x))        \n",
    "        \n",
    "    def fit(self, X, y):\n",
    "        n_samples, n_features = X.shape\n",
    "\n",
    "        # init parameters\n",
    "        self.weights = np.zeros(n_features)\n",
    "        self.bias = 0\n",
    "\n",
    "        # gradient descent\n",
    "        for _ in range(self.n_iters):\n",
    "            # approximate y with linear combination of weights and x, plus bias\n",
    "            linear_model = np.dot(X, self.weights) + self.bias\n",
    "            \n",
    "            # apply sigmoid function\n",
    "            y_predicted = self._sigmoid(linear_model)\n",
    "\n",
    "            # compute gradients\n",
    "            dw = (1 / n_samples) * np.dot(X.T, (y_predicted - y))\n",
    "            db = (1 / n_samples) * np.sum(y_predicted - y)\n",
    "            \n",
    "            # update parameters\n",
    "            self.weights -= self.lr * dw\n",
    "            self.bias -= self.lr * db        \n",
    "            \n",
    "    def predict(self, X):\n",
    "        linear_model = np.dot(X, self.weights) + self.bias\n",
    "        y_predicted = self._sigmoid(linear_model)\n",
    "        y_predicted_cls = [1 if i > 0.5 else 0 for i in y_predicted]\n",
    "        return np.array(y_predicted_cls)            "
   ]
  },
  {
   "cell_type": "markdown",
   "id": "d21d9e2e-5e9b-4812-833e-179d463d57d7",
   "metadata": {},
   "source": [
    "## Testing"
   ]
  },
  {
   "cell_type": "code",
   "execution_count": 2,
   "id": "de00abd7-9ac9-4b6d-bbbb-f2323281280e",
   "metadata": {},
   "outputs": [
    {
     "name": "stdout",
     "output_type": "stream",
     "text": [
      "LR classification accuracy: 0.9298245614035088\n"
     ]
    }
   ],
   "source": [
    "from sklearn.model_selection import train_test_split\n",
    "from sklearn import datasets\n",
    "\n",
    "def accuracy(y_true, y_pred):\n",
    "    accuracy = np.sum(y_true == y_pred) / len(y_true)\n",
    "    return accuracy\n",
    "\n",
    "bc = datasets.load_breast_cancer()\n",
    "X, y = bc.data, bc.target\n",
    "\n",
    "X_train, X_test, y_train, y_test = train_test_split(\n",
    "    X, y, test_size=0.2, random_state=1234\n",
    ")\n",
    "\n",
    "regressor = LogisticRegression(learning_rate=0.0001, n_iters=1000)\n",
    "regressor.fit(X_train, y_train)\n",
    "predictions = regressor.predict(X_test)\n",
    "\n",
    "print(\"LR classification accuracy:\", accuracy(y_test, predictions))"
   ]
  },
  {
   "cell_type": "markdown",
   "id": "966db29a-e532-4c72-ab73-2ca68fc2e70f",
   "metadata": {},
   "source": [
    "source: https://www.youtube.com/watch?v=rLOyrWV8gmA"
   ]
  }
 ],
 "metadata": {
  "kernelspec": {
   "display_name": "Python 3 (ipykernel)",
   "language": "python",
   "name": "python3"
  },
  "language_info": {
   "codemirror_mode": {
    "name": "ipython",
    "version": 3
   },
   "file_extension": ".py",
   "mimetype": "text/x-python",
   "name": "python",
   "nbconvert_exporter": "python",
   "pygments_lexer": "ipython3",
   "version": "3.7.11"
  }
 },
 "nbformat": 4,
 "nbformat_minor": 5
}
