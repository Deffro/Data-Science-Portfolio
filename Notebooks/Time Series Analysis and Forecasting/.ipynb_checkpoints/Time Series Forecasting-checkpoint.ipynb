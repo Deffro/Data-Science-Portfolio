{
 "cells": [
  {
   "cell_type": "code",
   "execution_count": 36,
   "metadata": {},
   "outputs": [],
   "source": [
    "import numpy as np\n",
    "import pandas as pd\n",
    "from pmdarima import auto_arima\n",
    "from sklearn.metrics import mean_squared_error\n",
    "from statsmodels.tsa.api import VAR, DynamicVAR\n",
    "from statsmodels.tools.eval_measures import rmse\n",
    "from statsmodels.tsa.statespace.tools import diff\n",
    "from statsmodels.tsa.statespace.sarimax import SARIMAX\n",
    "from statsmodels.tsa.statespace.varmax import VARMAX, VARMAXResults\n",
    "from statsmodels.tsa.arima_model import ARMA,ARMAResults,ARIMA,ARIMAResults\n",
    "from statsmodels.tsa.holtwinters import SimpleExpSmoothing, ExponentialSmoothing\n",
    "\n",
    "import warnings\n",
    "import seaborn as sns \n",
    "from itertools import cycle\n",
    "import matplotlib.pyplot as plt\n",
    "\n",
    "%matplotlib inline \n",
    "plt.style.use('bmh')\n",
    "sns.set_style(\"whitegrid\")\n",
    "plt.rc('xtick', labelsize=15) \n",
    "plt.rc('ytick', labelsize=15) \n",
    "warnings.filterwarnings(\"ignore\")\n",
    "color_pal = plt.rcParams['axes.prop_cycle'].by_key()['color']\n",
    "color_cycle = cycle(plt.rcParams['axes.prop_cycle'].by_key()['color'])"
   ]
  },
  {
   "cell_type": "code",
   "execution_count": 37,
   "metadata": {},
   "outputs": [
    {
     "data": {
      "text/html": [
       "<div>\n",
       "<style scoped>\n",
       "    .dataframe tbody tr th:only-of-type {\n",
       "        vertical-align: middle;\n",
       "    }\n",
       "\n",
       "    .dataframe tbody tr th {\n",
       "        vertical-align: top;\n",
       "    }\n",
       "\n",
       "    .dataframe thead th {\n",
       "        text-align: right;\n",
       "    }\n",
       "</style>\n",
       "<table border=\"1\" class=\"dataframe\">\n",
       "  <thead>\n",
       "    <tr style=\"text-align: right;\">\n",
       "      <th></th>\n",
       "      <th>id</th>\n",
       "      <th>obs_id</th>\n",
       "      <th>temperatureSurface</th>\n",
       "      <th>salinitySurface</th>\n",
       "      <th>year</th>\n",
       "      <th>month</th>\n",
       "    </tr>\n",
       "    <tr>\n",
       "      <th>year_month</th>\n",
       "      <th></th>\n",
       "      <th></th>\n",
       "      <th></th>\n",
       "      <th></th>\n",
       "      <th></th>\n",
       "      <th></th>\n",
       "    </tr>\n",
       "  </thead>\n",
       "  <tbody>\n",
       "    <tr>\n",
       "      <td>2017-08-01</td>\n",
       "      <td>16292017-08</td>\n",
       "      <td>1629</td>\n",
       "      <td>23.582354</td>\n",
       "      <td>36.182110</td>\n",
       "      <td>2017</td>\n",
       "      <td>8</td>\n",
       "    </tr>\n",
       "    <tr>\n",
       "      <td>2017-09-01</td>\n",
       "      <td>16292017-09</td>\n",
       "      <td>1629</td>\n",
       "      <td>21.929382</td>\n",
       "      <td>36.138615</td>\n",
       "      <td>2017</td>\n",
       "      <td>9</td>\n",
       "    </tr>\n",
       "    <tr>\n",
       "      <td>2017-10-01</td>\n",
       "      <td>16292017-10</td>\n",
       "      <td>1629</td>\n",
       "      <td>19.932003</td>\n",
       "      <td>36.038403</td>\n",
       "      <td>2017</td>\n",
       "      <td>10</td>\n",
       "    </tr>\n",
       "    <tr>\n",
       "      <td>2017-11-01</td>\n",
       "      <td>16292017-11</td>\n",
       "      <td>1629</td>\n",
       "      <td>17.789633</td>\n",
       "      <td>36.132930</td>\n",
       "      <td>2017</td>\n",
       "      <td>11</td>\n",
       "    </tr>\n",
       "    <tr>\n",
       "      <td>2017-12-01</td>\n",
       "      <td>16292017-12</td>\n",
       "      <td>1629</td>\n",
       "      <td>15.722528</td>\n",
       "      <td>36.223846</td>\n",
       "      <td>2017</td>\n",
       "      <td>12</td>\n",
       "    </tr>\n",
       "  </tbody>\n",
       "</table>\n",
       "</div>"
      ],
      "text/plain": [
       "                     id  obs_id  temperatureSurface  salinitySurface  year  \\\n",
       "year_month                                                                   \n",
       "2017-08-01  16292017-08    1629           23.582354        36.182110  2017   \n",
       "2017-09-01  16292017-09    1629           21.929382        36.138615  2017   \n",
       "2017-10-01  16292017-10    1629           19.932003        36.038403  2017   \n",
       "2017-11-01  16292017-11    1629           17.789633        36.132930  2017   \n",
       "2017-12-01  16292017-12    1629           15.722528        36.223846  2017   \n",
       "\n",
       "            month  \n",
       "year_month         \n",
       "2017-08-01      8  \n",
       "2017-09-01      9  \n",
       "2017-10-01     10  \n",
       "2017-11-01     11  \n",
       "2017-12-01     12  "
      ]
     },
     "execution_count": 37,
     "metadata": {},
     "output_type": "execute_result"
    }
   ],
   "source": [
    "data = pd.read_csv('SoleaTimeSeriesDataset-Temperature-Salinity.csv', usecols=['id','year_month','obs_id','salinitySurface','temperatureSurface'])\n",
    "data['year_month'] = pd.to_datetime(data['year_month'])\n",
    "data['year'] = data['year_month'].dt.year\n",
    "data['month'] = data['year_month'].dt.month\n",
    "data = data.set_index('year_month')\n",
    "data.tail()"
   ]
  },
  {
   "cell_type": "code",
   "execution_count": 38,
   "metadata": {},
   "outputs": [
    {
     "data": {
      "text/html": [
       "<div>\n",
       "<style scoped>\n",
       "    .dataframe tbody tr th:only-of-type {\n",
       "        vertical-align: middle;\n",
       "    }\n",
       "\n",
       "    .dataframe tbody tr th {\n",
       "        vertical-align: top;\n",
       "    }\n",
       "\n",
       "    .dataframe thead th {\n",
       "        text-align: right;\n",
       "    }\n",
       "</style>\n",
       "<table border=\"1\" class=\"dataframe\">\n",
       "  <thead>\n",
       "    <tr style=\"text-align: right;\">\n",
       "      <th></th>\n",
       "      <th>salinitySurface</th>\n",
       "    </tr>\n",
       "    <tr>\n",
       "      <th>year_month</th>\n",
       "      <th></th>\n",
       "    </tr>\n",
       "  </thead>\n",
       "  <tbody>\n",
       "    <tr>\n",
       "      <td>2008-01-01</td>\n",
       "      <td>38.059185</td>\n",
       "    </tr>\n",
       "    <tr>\n",
       "      <td>2008-02-01</td>\n",
       "      <td>37.981125</td>\n",
       "    </tr>\n",
       "    <tr>\n",
       "      <td>2008-03-01</td>\n",
       "      <td>38.007427</td>\n",
       "    </tr>\n",
       "    <tr>\n",
       "      <td>2008-04-01</td>\n",
       "      <td>37.915913</td>\n",
       "    </tr>\n",
       "    <tr>\n",
       "      <td>2008-05-01</td>\n",
       "      <td>37.992910</td>\n",
       "    </tr>\n",
       "  </tbody>\n",
       "</table>\n",
       "</div>"
      ],
      "text/plain": [
       "            salinitySurface\n",
       "year_month                 \n",
       "2008-01-01        38.059185\n",
       "2008-02-01        37.981125\n",
       "2008-03-01        38.007427\n",
       "2008-04-01        37.915913\n",
       "2008-05-01        37.992910"
      ]
     },
     "execution_count": 38,
     "metadata": {},
     "output_type": "execute_result"
    }
   ],
   "source": [
    "#dataTemp = data[data['obs_id']==2][['temperatureSurface']]\n",
    "#dataTemp.index.freq = 'MS'\n",
    "\n",
    "dataSal = data[data['obs_id']==2][['salinitySurface']]\n",
    "dataSal.index.freq = 'MS'\n",
    "dataSal.head()"
   ]
  },
  {
   "cell_type": "code",
   "execution_count": 39,
   "metadata": {},
   "outputs": [],
   "source": [
    "train_data = dataSal.iloc[:96]\n",
    "test_data = dataSal.iloc[96:]"
   ]
  },
  {
   "cell_type": "markdown",
   "metadata": {},
   "source": [
    "### Fitting the Model"
   ]
  },
  {
   "cell_type": "code",
   "execution_count": 40,
   "metadata": {},
   "outputs": [],
   "source": [
    "span = 12\n",
    "alpha = 2/(span+1)\n",
    "simpleExpSmooth_model = SimpleExpSmoothing(train_data['salinitySurface']).fit(smoothing_level=alpha,optimized=False)\n",
    "doubleExpSmooth_model = ExponentialSmoothing(train_data['salinitySurface'],trend='add',seasonal_periods=12).fit()\n",
    "tripleExpSmooth_model = ExponentialSmoothing(train_data['salinitySurface'],trend='add',seasonal='add',seasonal_periods=12).fit()"
   ]
  },
  {
   "cell_type": "markdown",
   "metadata": {},
   "source": [
    "### Evaluating Model"
   ]
  },
  {
   "cell_type": "code",
   "execution_count": 41,
   "metadata": {},
   "outputs": [],
   "source": [
    "predictions_simpleExpSmooth_model = simpleExpSmooth_model.forecast(24)\n",
    "predictions_doubleExpSmooth_model = doubleExpSmooth_model.forecast(24)\n",
    "predictions_tripleExpSmooth_model = tripleExpSmooth_model.forecast(24)"
   ]
  },
  {
   "cell_type": "code",
   "execution_count": 42,
   "metadata": {},
   "outputs": [
    {
     "data": {
      "text/plain": [
       "2016-01-01    38.259251\n",
       "2016-02-01    38.182110\n",
       "2016-03-01    38.119566\n",
       "2016-04-01    38.048063\n",
       "2016-05-01    38.042674\n",
       "2016-06-01    37.985813\n",
       "2016-07-01    38.001286\n",
       "2016-08-01    38.092952\n",
       "2016-09-01    38.326262\n",
       "2016-10-01    38.431674\n",
       "2016-11-01    38.337741\n",
       "2016-12-01    38.305122\n",
       "2017-01-01    38.284101\n",
       "2017-02-01    38.206960\n",
       "2017-03-01    38.144416\n",
       "2017-04-01    38.072913\n",
       "2017-05-01    38.067524\n",
       "2017-06-01    38.010663\n",
       "2017-07-01    38.026136\n",
       "2017-08-01    38.117802\n",
       "2017-09-01    38.351112\n",
       "2017-10-01    38.456524\n",
       "2017-11-01    38.362591\n",
       "2017-12-01    38.329972\n",
       "Freq: MS, dtype: float64"
      ]
     },
     "execution_count": 42,
     "metadata": {},
     "output_type": "execute_result"
    }
   ],
   "source": [
    "predictions_tripleExpSmooth_model"
   ]
  },
  {
   "cell_type": "code",
   "execution_count": 43,
   "metadata": {},
   "outputs": [
    {
     "data": {
      "image/png": "[encoded data removed]",
      "text/plain": [
       "<matplotlib.figure.Figure at 0x26cb53c1a58>"
      ]
     },
     "metadata": {},
     "output_type": "display_data"
    }
   ],
   "source": [
    "train_data['salinitySurface'].plot(legend=True,label='TRAIN')\n",
    "test_data['salinitySurface'].plot(legend=True,label='TEST',figsize=(15,6))\n",
    "predictions_simpleExpSmooth_model.plot(legend=True,label='Simple Exponential Forecast')\n",
    "predictions_doubleExpSmooth_model.plot(legend=True,label='Double Exponential Forecast')\n",
    "predictions_tripleExpSmooth_model.plot(legend=True,label='Triple Exponential Forecast');"
   ]
  },
  {
   "cell_type": "markdown",
   "metadata": {},
   "source": [
    "### Evaluation"
   ]
  },
  {
   "cell_type": "code",
   "execution_count": 25,
   "metadata": {},
   "outputs": [
    {
     "name": "stdout",
     "output_type": "stream",
     "text": [
      "Simple Exponential Smoothing RMSE: 0.2423\n",
      "Double Exponential Smoothing RMSE: 0.2491\n",
      "Triple Exponential Smoothing RMSE: 0.2033\n"
     ]
    }
   ],
   "source": [
    "print('Simple Exponential Smoothing RMSE: {:.4f}'.format(np.sqrt(mean_squared_error(test_data,predictions_simpleExpSmooth_model))))\n",
    "print('Double Exponential Smoothing RMSE: {:.4f}'.format(np.sqrt(mean_squared_error(test_data,predictions_doubleExpSmooth_model))))\n",
    "print('Triple Exponential Smoothing RMSE: {:.4f}'.format(np.sqrt(mean_squared_error(test_data,predictions_tripleExpSmooth_model))))"
   ]
  },
  {
   "cell_type": "code",
   "execution_count": 27,
   "metadata": {},
   "outputs": [
    {
     "data": {
      "text/plain": [
       "salinitySurface    0.236641\n",
       "dtype: float64"
      ]
     },
     "execution_count": 27,
     "metadata": {},
     "output_type": "execute_result"
    }
   ],
   "source": [
    "test_data.std()"
   ]
  },
  {
   "cell_type": "markdown",
   "metadata": {},
   "source": [
    "Having RMSE less than std is a good indicator for our forecasting model"
   ]
  },
  {
   "cell_type": "markdown",
   "metadata": {},
   "source": [
    "## Refit model on the entire data set and forecast future unknown data"
   ]
  },
  {
   "cell_type": "code",
   "execution_count": 55,
   "metadata": {},
   "outputs": [
    {
     "data": {
      "image/png": "[encoded data removed]",
      "text/plain": [
       "<matplotlib.figure.Figure at 0x26cb77d3e80>"
      ]
     },
     "metadata": {},
     "output_type": "display_data"
    }
   ],
   "source": [
    "model = ExponentialSmoothing(train_data['salinitySurface'],trend='add',seasonal='add',seasonal_periods=12)\n",
    "results = model.fit()\n",
    "fcast = results.predict(len(dataSal),len(dataSal)+12).rename('Triple Exponential Forecast')\n",
    "\n",
    "# Plot predictions against known values\n",
    "title = 'Salinity Surface'\n",
    "ylabel='Salinity'\n",
    "xlabel='Time'\n",
    "\n",
    "ax = dataSal['salinitySurface'].plot(legend=True,figsize=(12,6),title=title)\n",
    "fcast.plot(legend=True)\n",
    "ax.autoscale(axis='x',tight=True)\n",
    "ax.set(xlabel=xlabel, ylabel=ylabel);"
   ]
  },
  {
   "cell_type": "markdown",
   "metadata": {},
   "source": [
    "### Stationarity\n",
    "Most statistical forecasting methods are designed to work on a stationary time series. The first step in the forecasting process is typically to do some transformation to convert a non-stationary series to stationary.\n",
    "A stationary time series is one whose properties do not depend on the time at which the series is observed. "
   ]
  },
  {
   "cell_type": "markdown",
   "metadata": {},
   "source": [
    "#### Differencing\n",
    "Non-stationary data can be made to look stationary through differencing. A simple differencing method calculates the difference between consecutive points."
   ]
  },
  {
   "cell_type": "code",
   "execution_count": null,
   "metadata": {},
   "outputs": [],
   "source": [
    "fig, ax = plt.subplots(nrows=2, ncols=2,figsize=(15, 11))\n",
    "\n",
    "dataSal['salinitySurfaceDiff1'] = diff(dataSal['salinitySurface'],k_diff=1)\n",
    "dataSal['salinitySurfaceDiff2'] = diff(dataSal['salinitySurface'],k_diff=2)\n",
    "dataSal['salinitySurfaceDiff3'] = diff(dataSal['salinitySurface'],k_diff=3)\n",
    "\n",
    "dataSal['salinitySurface'].plot(title=\"Initial Data\",ax=ax[0][0]).autoscale(axis='x',tight=True);\n",
    "dataSal['salinitySurfaceDiff1'].plot(title=\"First Difference Data\",ax=ax[0][1]).autoscale(axis='x',tight=True);\n",
    "dataSal['salinitySurfaceDiff2'].plot(title=\"Second Difference Data\",ax=ax[1][0]).autoscale(axis='x',tight=True);\n",
    "dataSal['salinitySurfaceDiff3'].plot(title=\"Third Difference Data\",ax=ax[1][1]).autoscale(axis='x',tight=True);"
   ]
  },
  {
   "cell_type": "code",
   "execution_count": null,
   "metadata": {},
   "outputs": [],
   "source": [
    "fig, ax = plt.subplots(nrows=2, ncols=2,figsize=(15, 11))\n",
    "\n",
    "dataTemp['temperatureSurfaceDiff1'] = diff(dataTemp['temperatureSurface'],k_diff=1)\n",
    "dataTemp['temperatureSurfaceDiff2'] = diff(dataTemp['temperatureSurface'],k_diff=2)\n",
    "dataTemp['temperatureSurfaceDiff3'] = diff(dataTemp['temperatureSurface'],k_diff=3)\n",
    "\n",
    "dataTemp['temperatureSurface'].plot(title=\"Initial Data\",ax=ax[0][0]).autoscale(axis='x',tight=True);\n",
    "dataTemp['temperatureSurfaceDiff1'].plot(title=\"First Difference Data\",ax=ax[0][1]).autoscale(axis='x',tight=True);\n",
    "dataTemp['temperatureSurfaceDiff2'].plot(title=\"Second Difference Data\",ax=ax[1][0]).autoscale(axis='x',tight=True);\n",
    "dataTemp['temperatureSurfaceDiff3'].plot(title=\"Third Difference Data\",ax=ax[1][1]).autoscale(axis='x',tight=True);"
   ]
  },
  {
   "cell_type": "markdown",
   "metadata": {},
   "source": [
    "## ARIMA\n",
    "An ARIMA model is characterized by 3 components: p, d, q\n",
    "-\tp is the order of the AR term. It refers to the number of lags of Y to be used as predictors.\n",
    "-\tq is the order of the MA term. It refers to the number of lagged forecast errors that should go into the ARIMA Model.\n",
    "-\td is the number of differencing required to make the time series stationary\n"
   ]
  },
  {
   "cell_type": "markdown",
   "metadata": {},
   "source": [
    "### Check if Stationary"
   ]
  },
  {
   "cell_type": "code",
   "execution_count": null,
   "metadata": {},
   "outputs": [],
   "source": [
    "from statsmodels.tsa.stattools import adfuller\n",
    "# check for stationarity\n",
    "def adf_test(series,title=''):\n",
    "    \"\"\"\n",
    "    Pass in a time series and an optional title, returns an ADF report\n",
    "    \"\"\"\n",
    "    print('Augmented Dickey-Fuller Test: {}'.format(title))\n",
    "    result = adfuller(series.dropna(),autolag='AIC') # .dropna() handles differenced data\n",
    "    \n",
    "    labels = ['ADF test statistic','p-value','# lags used','# observations']\n",
    "    out = pd.Series(result[0:4],index=labels)\n",
    "\n",
    "    for key,val in result[4].items():\n",
    "        out['critical value ({})'.format(key)]=val\n",
    "        \n",
    "    print(out.to_string())          # .to_string() removes the line \"dtype: float64\"\n",
    "    \n",
    "    if result[1] <= 0.05:\n",
    "        print(\"Strong evidence against the null hypothesis\")\n",
    "        print(\"Reject the null hypothesis\")\n",
    "        print(\"Data has no unit root and is stationary\")\n",
    "    else:\n",
    "        print(\"Weak evidence against the null hypothesis\")\n",
    "        print(\"Fail to reject the null hypothesis\")\n",
    "        print(\"Data has a unit root and is non-stationary\")"
   ]
  },
  {
   "cell_type": "code",
   "execution_count": null,
   "metadata": {},
   "outputs": [],
   "source": [
    "adf_test(dataSal['salinitySurface'])"
   ]
  },
  {
   "cell_type": "markdown",
   "metadata": {},
   "source": [
    "### Automatically select ARIMA parameters"
   ]
  },
  {
   "cell_type": "markdown",
   "metadata": {},
   "source": [
    "### Let's ignore the seasonality (for the sake of the example)"
   ]
  },
  {
   "cell_type": "code",
   "execution_count": null,
   "metadata": {},
   "outputs": [],
   "source": [
    "stepwise_fit = auto_arima(dataSal['salinitySurface'], start_p=0, start_q=0,\n",
    "                          max_p=6, max_q=3,\n",
    "                          seasonal=False,\n",
    "                          d=None, trace=True,\n",
    "                          error_action='ignore',   # we don't want to know if an order does not work\n",
    "                          suppress_warnings=True,  # we don't want convergence warnings\n",
    "                          stepwise=True)\n",
    "stepwise_fit.summary() "
   ]
  },
  {
   "cell_type": "markdown",
   "metadata": {},
   "source": [
    "So we will choose an ARMA model with p(number of lags)=2 and q(size of moving window)=1\n",
    "#### ARMA"
   ]
  },
  {
   "cell_type": "code",
   "execution_count": null,
   "metadata": {},
   "outputs": [],
   "source": [
    "train = dataSal.iloc[:96]\n",
    "test = dataSal.iloc[96:]"
   ]
  },
  {
   "cell_type": "code",
   "execution_count": null,
   "metadata": {},
   "outputs": [],
   "source": [
    "model = ARMA(train['salinitySurface'],order=(2,1))\n",
    "results = model.fit()\n",
    "results.summary()"
   ]
  },
  {
   "cell_type": "code",
   "execution_count": null,
   "metadata": {},
   "outputs": [],
   "source": [
    "start=len(train)\n",
    "end=len(train)+len(test)-1\n",
    "predictions = results.predict(start=start, end=end).rename('ARMA(2,1) Predictions')\n",
    "\n",
    "title = 'Surface Salinity'\n",
    "ylabel='Salinity'\n",
    "xlabel='' # we don't really need a label here\n",
    "\n",
    "ax = test['salinitySurface'].plot(legend=True,figsize=(12,6),title=title)\n",
    "predictions.plot(legend=True)\n",
    "ax.autoscale(axis='x',tight=True)\n",
    "ax.set(xlabel=xlabel, ylabel=ylabel);"
   ]
  },
  {
   "cell_type": "markdown",
   "metadata": {},
   "source": [
    "Since it is an ARMA model, there is no seasonality in the predictions. For the sake of the example we chose not to search for seasonality components."
   ]
  },
  {
   "cell_type": "code",
   "execution_count": null,
   "metadata": {},
   "outputs": [],
   "source": [
    "test['salinitySurface'].mean()"
   ]
  },
  {
   "cell_type": "code",
   "execution_count": null,
   "metadata": {},
   "outputs": [],
   "source": [
    "predictions.mean()"
   ]
  },
  {
   "cell_type": "markdown",
   "metadata": {},
   "source": [
    "The model did not predict the noise, but has vary close mean to the unseen test set."
   ]
  },
  {
   "cell_type": "markdown",
   "metadata": {},
   "source": [
    "## SARIMA\n",
    "It is an extension of ARIMA that accepts additional set of parameters that specifically describe the seasonal components of the model."
   ]
  },
  {
   "cell_type": "code",
   "execution_count": null,
   "metadata": {},
   "outputs": [],
   "source": [
    "stepwise_fit = auto_arima(dataTemp['temperatureSurface'], start_p=0, start_q=0,\n",
    "                          max_p=6, max_q=3,\n",
    "                          seasonal=True, m=12,\n",
    "                          trace=True,\n",
    "                          error_action='ignore',   # we don't want to know if an order does not work\n",
    "                          suppress_warnings=True,  # we don't want convergence warnings\n",
    "                         )\n",
    "stepwise_fit.summary()"
   ]
  },
  {
   "cell_type": "code",
   "execution_count": null,
   "metadata": {},
   "outputs": [],
   "source": [
    "train = dataTemp.iloc[:96]\n",
    "test = dataTemp.iloc[96:]"
   ]
  },
  {
   "cell_type": "code",
   "execution_count": null,
   "metadata": {},
   "outputs": [],
   "source": [
    "model = SARIMAX(train['temperatureSurface'],order=(1,0,0),seasonal_order=(0,1,2,12),enforce_invertibility=False)\n",
    "results = model.fit()\n",
    "results.summary()"
   ]
  },
  {
   "cell_type": "code",
   "execution_count": null,
   "metadata": {},
   "outputs": [],
   "source": [
    "start=len(train)\n",
    "end=len(train)+len(test)-1\n",
    "predictions = results.predict(start=start, end=end).rename('SARIMA Predictions')\n",
    "\n",
    "title = 'Surface Temperature'\n",
    "ylabel='Temperature'\n",
    "xlabel='' # we don't really need a label here\n",
    "\n",
    "ax = test['temperatureSurface'].plot(legend=True,figsize=(12,6),title=title)\n",
    "predictions.plot(legend=True)\n",
    "ax.autoscale(axis='x',tight=True)\n",
    "ax.set(xlabel=xlabel, ylabel=ylabel);"
   ]
  },
  {
   "cell_type": "markdown",
   "metadata": {},
   "source": [
    "### Evaluation"
   ]
  },
  {
   "cell_type": "code",
   "execution_count": null,
   "metadata": {},
   "outputs": [],
   "source": [
    "from sklearn.metrics import mean_squared_error\n",
    "\n",
    "error1 = mean_squared_error(test['temperatureSurface'], predictions)\n",
    "error2 = rmse(test['temperatureSurface'], predictions)\n",
    "print('SARIMA MSE Error: {}'.format(error))\n",
    "print('SARIMA RMSE Error: {}'.format(error2))"
   ]
  },
  {
   "cell_type": "markdown",
   "metadata": {},
   "source": [
    "Wow!"
   ]
  },
  {
   "cell_type": "markdown",
   "metadata": {},
   "source": [
    "### Retrain the model on the full data, and forecast the future"
   ]
  },
  {
   "cell_type": "code",
   "execution_count": null,
   "metadata": {},
   "outputs": [],
   "source": [
    "model = SARIMAX(dataTemp['temperatureSurface'],order=(1,0,0),seasonal_order=(0,1,1,12))\n",
    "results = model.fit()\n",
    "fcast = results.predict(len(dataTemp),len(dataTemp)+11,typ='levels').rename('SARIMA Forecast')\n",
    "\n",
    "# Plot predictions against known values\n",
    "title = 'Temperature Surface'\n",
    "ylabel='Temperature'\n",
    "xlabel=''\n",
    "\n",
    "ax = dataTemp['temperatureSurface'].plot(legend=True,figsize=(12,6),title=title)\n",
    "fcast.plot(legend=True)\n",
    "ax.autoscale(axis='x',tight=True)\n",
    "ax.set(xlabel=xlabel, ylabel=ylabel);"
   ]
  },
  {
   "cell_type": "markdown",
   "metadata": {},
   "source": [
    "### VAR Model"
   ]
  },
  {
   "cell_type": "code",
   "execution_count": null,
   "metadata": {},
   "outputs": [],
   "source": [
    "dataSal['temperatureSurface'] = dataTemp['temperatureSurface']\n",
    "data = dataSal.copy()\n",
    "data = data.drop(['salinitySurfaceDiff1','salinitySurfaceDiff2','salinitySurfaceDiff3'],axis=1)\n",
    "data.head()"
   ]
  },
  {
   "cell_type": "code",
   "execution_count": null,
   "metadata": {},
   "outputs": [],
   "source": [
    "ax = data['temperatureSurface'].plot(figsize=(15,6),legend=True)\n",
    "ax.autoscale(axis='x',tight=True)\n",
    "ax.set(xlabel=xlabel, ylabel=ylabel)\n",
    "data['salinitySurface'].plot(legend=True);"
   ]
  },
  {
   "cell_type": "code",
   "execution_count": null,
   "metadata": {},
   "outputs": [],
   "source": [
    "adf_test(data['temperatureSurface'])"
   ]
  },
  {
   "cell_type": "code",
   "execution_count": null,
   "metadata": {},
   "outputs": [],
   "source": [
    "adf_test(data['salinitySurface'])"
   ]
  },
  {
   "cell_type": "markdown",
   "metadata": {},
   "source": [
    "If on series was not stationary we would have to take the forst order of difference to both series so they retain the same number of observations."
   ]
  },
  {
   "cell_type": "code",
   "execution_count": null,
   "metadata": {},
   "outputs": [],
   "source": [
    "# train/test split\n",
    "nobs=24\n",
    "train, test = data[0:-nobs], data[-nobs:]"
   ]
  },
  {
   "cell_type": "code",
   "execution_count": null,
   "metadata": {},
   "outputs": [],
   "source": [
    "print(train.shape)\n",
    "print(test.shape)"
   ]
  },
  {
   "cell_type": "markdown",
   "metadata": {},
   "source": [
    "#### VAR p selection"
   ]
  },
  {
   "cell_type": "code",
   "execution_count": null,
   "metadata": {},
   "outputs": [],
   "source": [
    "for i in [1,2,3,4,5,6,7,8,9,10]:\n",
    "    model = VAR(train)\n",
    "    results = model.fit(i)\n",
    "    print('Order =', i)\n",
    "    print('AIC: ', results.aic)\n",
    "    #print('BIC: ', results.bic)"
   ]
  },
  {
   "cell_type": "markdown",
   "metadata": {},
   "source": [
    "We choose order of 8."
   ]
  },
  {
   "cell_type": "code",
   "execution_count": null,
   "metadata": {},
   "outputs": [],
   "source": [
    "results = model.fit(7)\n",
    "results.summary()"
   ]
  },
  {
   "cell_type": "code",
   "execution_count": null,
   "metadata": {},
   "outputs": [],
   "source": [
    "lag_order = results.k_ar\n",
    "z = results.forecast(y=train.values[-lag_order:], steps=nobs)\n",
    "z"
   ]
  },
  {
   "cell_type": "code",
   "execution_count": null,
   "metadata": {},
   "outputs": [],
   "source": [
    "test"
   ]
  },
  {
   "cell_type": "code",
   "execution_count": null,
   "metadata": {},
   "outputs": [],
   "source": [
    "idx = pd.date_range('1/1/2016', periods=nobs, freq='MS')\n",
    "df_forecast = pd.DataFrame(z, index=idx, columns=['salinitySurfaceForecast','temperatureSurfaceForecast'])\n",
    "df_forecast"
   ]
  },
  {
   "cell_type": "markdown",
   "metadata": {},
   "source": [
    "#### If we had differenced columns than we have to invert the transformation"
   ]
  },
  {
   "cell_type": "code",
   "execution_count": null,
   "metadata": {},
   "outputs": [],
   "source": [
    "# Add the most recent first difference from the training side of the original dataset to the forecast cumulative sum\n",
    "#df_forecast['temperatureSurface1d'] = (data['temperatureSurface'].iloc[-nobs-1]-data['temperatureSurface'].iloc[-nobs-2]) + df_forecast['temperatureSurface2d'].cumsum()\n",
    "\n",
    "# Now build the forecast values from the first difference set\n",
    "#df_forecast['temperatureSurfaceForecast'] = data['temperatureSurface'].iloc[-nobs-1] + df_forecast['temperatureSurface1d'].cumsum()"
   ]
  },
  {
   "cell_type": "code",
   "execution_count": null,
   "metadata": {},
   "outputs": [],
   "source": [
    "# Add the most recent first difference from the training side of the original dataset to the forecast cumulative sum\n",
    "#df_forecast['salinitySurface1d'] = (data['salinitySurface'].iloc[-nobs-1]-data['salinitySurface'].iloc[-nobs-2]) + df_forecast['salinitySurface2d'].cumsum()\n",
    "\n",
    "# Now build the forecast values from the first difference set\n",
    "#df_forecast['salinitySurfaceForecast'] = data['salinitySurface'].iloc[-nobs-1] + df_forecast['salinitySurface1d'].cumsum()"
   ]
  },
  {
   "cell_type": "code",
   "execution_count": null,
   "metadata": {},
   "outputs": [],
   "source": [
    "df_forecast"
   ]
  },
  {
   "cell_type": "code",
   "execution_count": null,
   "metadata": {},
   "outputs": [],
   "source": [
    "data['temperatureSurface'][-nobs:].plot(figsize=(12,5),legend=True).autoscale(axis='x',tight=True)\n",
    "df_forecast['temperatureSurfaceForecast'].plot(legend=True);"
   ]
  },
  {
   "cell_type": "code",
   "execution_count": null,
   "metadata": {},
   "outputs": [],
   "source": [
    "data['salinitySurface'][-nobs:].plot(figsize=(12,5),legend=True).autoscale(axis='x',tight=True)\n",
    "df_forecast['salinitySurfaceForecast'].plot(legend=True);"
   ]
  },
  {
   "cell_type": "code",
   "execution_count": null,
   "metadata": {},
   "outputs": [],
   "source": [
    "from sklearn.metrics import mean_squared_error\n",
    "\n",
    "error1 = mean_squared_error(test['temperatureSurface'], df_forecast['temperatureSurfaceForecast'])\n",
    "error2 = rmse(test['temperatureSurface'], predictions)\n",
    "print('VAR Temperature MSE Error: {}'.format(error1))\n",
    "print('VAR RMSE Error: {}'.format(error2))"
   ]
  },
  {
   "cell_type": "code",
   "execution_count": null,
   "metadata": {},
   "outputs": [],
   "source": [
    "from sklearn.metrics import mean_squared_error\n",
    "\n",
    "error1 = mean_squared_error(test['salinitySurface'], df_forecast['salinitySurfaceForecast'])\n",
    "error2 = rmse(test['salinitySurface'], predictions)\n",
    "\n",
    "print('VAR Salinity MSE Error: {}'.format(error1))\n",
    "print('VAR RMSE Error: {}'.format(error2))"
   ]
  },
  {
   "cell_type": "markdown",
   "metadata": {},
   "source": [
    "### VARMA Model"
   ]
  },
  {
   "cell_type": "code",
   "execution_count": null,
   "metadata": {},
   "outputs": [],
   "source": [
    "data.head()"
   ]
  },
  {
   "cell_type": "code",
   "execution_count": null,
   "metadata": {},
   "outputs": [],
   "source": [
    "auto_arima(data['salinitySurface'],maxiter=1000)"
   ]
  },
  {
   "cell_type": "code",
   "execution_count": null,
   "metadata": {},
   "outputs": [],
   "source": [
    "auto_arima(data['temperatureSurface'],maxiter=1000)"
   ]
  },
  {
   "cell_type": "code",
   "execution_count": null,
   "metadata": {
    "scrolled": true
   },
   "outputs": [],
   "source": [
    "for i in [1,2,3,4,5,6,7,8,9,10]:\n",
    "    for j in [1,2,3,4,5,6,7,8,9,10]:\n",
    "        model = VARMAX(train, order=(i,j), trend='c')\n",
    "        results = model.fit()\n",
    "        print('Order =', i,j)\n",
    "        print('AIC: ', results.aic)\n",
    "        #print('BIC: ', results.bic)"
   ]
  },
  {
   "cell_type": "code",
   "execution_count": null,
   "metadata": {},
   "outputs": [],
   "source": [
    "model = VARMAX(train, order=(2,2), trend='c')\n",
    "results = model.fit(maxiter=1000, disp=False)\n",
    "results.summary()"
   ]
  },
  {
   "cell_type": "code",
   "execution_count": null,
   "metadata": {},
   "outputs": [],
   "source": [
    "df_forecast = results.forecast(24)\n",
    "df_forecast"
   ]
  },
  {
   "cell_type": "code",
   "execution_count": null,
   "metadata": {},
   "outputs": [],
   "source": [
    "data['temperatureSurface'][-nobs:].plot(figsize=(12,5),legend=True).autoscale(axis='x',tight=True)\n",
    "df_forecast['temperatureSurface'].plot(legend=True);"
   ]
  },
  {
   "cell_type": "code",
   "execution_count": null,
   "metadata": {},
   "outputs": [],
   "source": [
    "data['salinitySurface'][-nobs:].plot(figsize=(12,5),legend=True).autoscale(axis='x',tight=True)\n",
    "df_forecast['salinitySurface'].plot(legend=True);"
   ]
  },
  {
   "cell_type": "code",
   "execution_count": null,
   "metadata": {},
   "outputs": [],
   "source": [
    "from sklearn.metrics import mean_squared_error\n",
    "\n",
    "error = mean_squared_error(test['temperatureSurface'], df_forecast['temperatureSurface'])\n",
    "print('VAR Temperature MSE Error: {}'.format(error))"
   ]
  },
  {
   "cell_type": "code",
   "execution_count": null,
   "metadata": {},
   "outputs": [],
   "source": [
    "from sklearn.metrics import mean_squared_error\n",
    "\n",
    "error = mean_squared_error(test['salinitySurface'], df_forecast['salinitySurface'])\n",
    "print('VAR Salinity MSE Error: {}'.format(error))"
   ]
  },
  {
   "cell_type": "code",
   "execution_count": null,
   "metadata": {},
   "outputs": [],
   "source": []
  }
 ],
 "metadata": {
  "kernelspec": {
   "display_name": "Python 3",
   "language": "python",
   "name": "python3"
  },
  "language_info": {
   "codemirror_mode": {
    "name": "ipython",
    "version": 3
   },
   "file_extension": ".py",
   "mimetype": "text/x-python",
   "name": "python",
   "nbconvert_exporter": "python",
   "pygments_lexer": "ipython3",
   "version": "3.5.4"
  }
 },
 "nbformat": 4,
 "nbformat_minor": 2
}
