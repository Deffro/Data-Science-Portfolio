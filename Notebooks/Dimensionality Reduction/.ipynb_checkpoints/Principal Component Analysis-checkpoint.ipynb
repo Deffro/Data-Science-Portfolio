{
 "cells": [
  {
   "cell_type": "code",
   "execution_count": null,
   "id": "06437fda-a353-4cfe-82f7-b900eccc82cf",
   "metadata": {},
   "outputs": [],
   "source": [
    "import numpy as np\n",
    "import pandas as pd\n",
    "\n",
    "from sklearn.model_selection import train_test_split\n",
    "from sklearn.linear_model import LinearRegression\n",
    "from sklearn.metrics import r2_score\n",
    "from sklearn.decomposition import PCA\n",
    "\n",
    "import statsmodels.api as sm\n",
    "import matplotlib.pyplot as plt"
   ]
  },
  {
   "cell_type": "code",
   "execution_count": null,
   "id": "5aa39a99-219f-41e6-900d-46098967b964",
   "metadata": {},
   "outputs": [
    {
     "data": {
      "text/html": [
       "<div>\n",
       "<style scoped>\n",
       "    .dataframe tbody tr th:only-of-type {\n",
       "        vertical-align: middle;\n",
       "    }\n",
       "\n",
       "    .dataframe tbody tr th {\n",
       "        vertical-align: top;\n",
       "    }\n",
       "\n",
       "    .dataframe thead th {\n",
       "        text-align: right;\n",
       "    }\n",
       "</style>\n",
       "<table border=\"1\" class=\"dataframe\">\n",
       "  <thead>\n",
       "    <tr style=\"text-align: right;\">\n",
       "      <th></th>\n",
       "      <th>CRIM</th>\n",
       "      <th>ZN</th>\n",
       "      <th>INDUS</th>\n",
       "      <th>CHAS</th>\n",
       "      <th>NOX</th>\n",
       "      <th>RM</th>\n",
       "      <th>AGE</th>\n",
       "      <th>DIS</th>\n",
       "      <th>RAD</th>\n",
       "      <th>TAX</th>\n",
       "      <th>PTRATIO</th>\n",
       "      <th>B</th>\n",
       "      <th>LSTAT</th>\n",
       "      <th>MEDV</th>\n",
       "    </tr>\n",
       "  </thead>\n",
       "  <tbody>\n",
       "    <tr>\n",
       "      <th>0</th>\n",
       "      <td>0.00632</td>\n",
       "      <td>18.0</td>\n",
       "      <td>2.31</td>\n",
       "      <td>0</td>\n",
       "      <td>0.538</td>\n",
       "      <td>6.575</td>\n",
       "      <td>65.2</td>\n",
       "      <td>4.0900</td>\n",
       "      <td>1</td>\n",
       "      <td>296.0</td>\n",
       "      <td>15.3</td>\n",
       "      <td>396.90</td>\n",
       "      <td>4.98</td>\n",
       "      <td>24.0</td>\n",
       "    </tr>\n",
       "    <tr>\n",
       "      <th>1</th>\n",
       "      <td>0.02731</td>\n",
       "      <td>0.0</td>\n",
       "      <td>7.07</td>\n",
       "      <td>0</td>\n",
       "      <td>0.469</td>\n",
       "      <td>6.421</td>\n",
       "      <td>78.9</td>\n",
       "      <td>4.9671</td>\n",
       "      <td>2</td>\n",
       "      <td>242.0</td>\n",
       "      <td>17.8</td>\n",
       "      <td>396.90</td>\n",
       "      <td>9.14</td>\n",
       "      <td>21.6</td>\n",
       "    </tr>\n",
       "    <tr>\n",
       "      <th>2</th>\n",
       "      <td>0.02729</td>\n",
       "      <td>0.0</td>\n",
       "      <td>7.07</td>\n",
       "      <td>0</td>\n",
       "      <td>0.469</td>\n",
       "      <td>7.185</td>\n",
       "      <td>61.1</td>\n",
       "      <td>4.9671</td>\n",
       "      <td>2</td>\n",
       "      <td>242.0</td>\n",
       "      <td>17.8</td>\n",
       "      <td>392.83</td>\n",
       "      <td>4.03</td>\n",
       "      <td>34.7</td>\n",
       "    </tr>\n",
       "    <tr>\n",
       "      <th>3</th>\n",
       "      <td>0.03237</td>\n",
       "      <td>0.0</td>\n",
       "      <td>2.18</td>\n",
       "      <td>0</td>\n",
       "      <td>0.458</td>\n",
       "      <td>6.998</td>\n",
       "      <td>45.8</td>\n",
       "      <td>6.0622</td>\n",
       "      <td>3</td>\n",
       "      <td>222.0</td>\n",
       "      <td>18.7</td>\n",
       "      <td>394.63</td>\n",
       "      <td>2.94</td>\n",
       "      <td>33.4</td>\n",
       "    </tr>\n",
       "    <tr>\n",
       "      <th>4</th>\n",
       "      <td>0.06905</td>\n",
       "      <td>0.0</td>\n",
       "      <td>2.18</td>\n",
       "      <td>0</td>\n",
       "      <td>0.458</td>\n",
       "      <td>7.147</td>\n",
       "      <td>54.2</td>\n",
       "      <td>6.0622</td>\n",
       "      <td>3</td>\n",
       "      <td>222.0</td>\n",
       "      <td>18.7</td>\n",
       "      <td>396.90</td>\n",
       "      <td>5.33</td>\n",
       "      <td>36.2</td>\n",
       "    </tr>\n",
       "  </tbody>\n",
       "</table>\n",
       "</div>"
      ],
      "text/plain": [
       "      CRIM    ZN  INDUS  CHAS    NOX     RM   AGE     DIS  RAD    TAX  \\\n",
       "0  0.00632  18.0   2.31     0  0.538  6.575  65.2  4.0900    1  296.0   \n",
       "1  0.02731   0.0   7.07     0  0.469  6.421  78.9  4.9671    2  242.0   \n",
       "2  0.02729   0.0   7.07     0  0.469  7.185  61.1  4.9671    2  242.0   \n",
       "3  0.03237   0.0   2.18     0  0.458  6.998  45.8  6.0622    3  222.0   \n",
       "4  0.06905   0.0   2.18     0  0.458  7.147  54.2  6.0622    3  222.0   \n",
       "\n",
       "   PTRATIO       B  LSTAT  MEDV  \n",
       "0     15.3  396.90   4.98  24.0  \n",
       "1     17.8  396.90   9.14  21.6  \n",
       "2     17.8  392.83   4.03  34.7  \n",
       "3     18.7  394.63   2.94  33.4  \n",
       "4     18.7  396.90   5.33  36.2  "
      ]
     },
     "execution_count": 5,
     "metadata": {},
     "output_type": "execute_result"
    }
   ],
   "source": [
    "column_names = ['CRIM', 'ZN', 'INDUS', 'CHAS', 'NOX', 'RM', 'AGE', 'DIS', 'RAD', 'TAX', 'PTRATIO', 'B', 'LSTAT', 'MEDV']\n",
    "data = pd.read_csv('housing.csv', header=None, delimiter=r\"\\s+\", names=column_names)\n",
    "data.head()"
   ]
  },
  {
   "cell_type": "code",
   "execution_count": null,
   "id": "343e3725-fad0-442b-a7eb-ca4738512dab",
   "metadata": {},
   "outputs": [],
   "source": [
    "X = data.drop(columns=['MEDV'])\n",
    "y = data['MEDV']"
   ]
  },
  {
   "cell_type": "markdown",
   "id": "2e1e6cf2-9581-4918-aa14-c41d3a7dca0f",
   "metadata": {},
   "source": [
    "## Return all Principal Components"
   ]
  },
  {
   "cell_type": "code",
   "execution_count": null,
   "id": "76d75ac5-3f20-4e89-a8e3-a3df96dbb7ba",
   "metadata": {},
   "outputs": [],
   "source": [
    "pca = PCA(n_components = X.shape[1])\n",
    "X_new = pca.fit_transform(X)"
   ]
  },
  {
   "cell_type": "code",
   "execution_count": null,
   "id": "b4fe30d7-38cc-4fc4-a329-92e2a0f7560e",
   "metadata": {},
   "outputs": [
    {
     "name": "stdout",
     "output_type": "stream",
     "text": [
      "[8.05823175e-01 1.63051968e-01 2.13486092e-02 6.95699061e-03\n",
      " 1.29995193e-03 7.27220158e-04 4.19044539e-04 2.48538539e-04\n",
      " 8.53912023e-05 3.08071548e-05 6.65623182e-06 1.56778461e-06\n",
      " 7.96814208e-08]\n",
      "1.0\n"
     ]
    }
   ],
   "source": [
    "# How much of the variance in the underlined data is captured in each principal component\n",
    "print(pca.explained_variance_ratio_)\n",
    "# Sum should be 1\n",
    "print(sum(pca.explained_variance_ratio_))"
   ]
  },
  {
   "cell_type": "markdown",
   "id": "4524a0d3-4869-4549-a6de-b235df3fdff4",
   "metadata": {},
   "source": [
    "## Visualize the Principal Components' Explained Variance"
   ]
  },
  {
   "cell_type": "code",
   "execution_count": null,
   "id": "d3f263ef-f5d8-494b-96a0-19fc14c9d6b7",
   "metadata": {},
   "outputs": [
    {
     "data": {
      "image/png": "[encoded data removed]",
      "text/plain": [
       "<Figure size 1080x360 with 1 Axes>"
      ]
     },
     "metadata": {
      "needs_background": "light"
     },
     "output_type": "display_data"
    }
   ],
   "source": [
    "fig, ax = plt.subplots(figsize=(15, 5))\n",
    "plt.plot(np.cumsum(pca.explained_variance_ratio_), marker='.')\n",
    "plt.xlabel('N Components')\n",
    "plt.ylabel('Cumsum Variance');"
   ]
  },
  {
   "cell_type": "markdown",
   "id": "31b71f7b-3022-48aa-a92b-9b336a839e89",
   "metadata": {},
   "source": [
    "We observe a \"knee\" at the 5+ component."
   ]
  },
  {
   "cell_type": "markdown",
   "id": "403f6ba9-bd50-497e-8b0e-71a0fc8fb22e",
   "metadata": {},
   "source": [
    "## Build models for different PCA n_components"
   ]
  },
  {
   "cell_type": "code",
   "execution_count": 33,
   "id": "bc544ef9-0fad-41ad-83c7-d28fff60d5b8",
   "metadata": {},
   "outputs": [],
   "source": [
    "def build_model(regression_fn,\n",
    "                target,\n",
    "                features,\n",
    "                dataset,\n",
    "                n_components,\n",
    "                use_pca):\n",
    "    \n",
    "    X = dataset[features]\n",
    "    y = dataset[target]\n",
    "    \n",
    "    x_train, x_test, y_train, y_test = train_test_split(X, y, test_size=0.2, random_state=0)\n",
    "    \n",
    "    if use_pca is True:\n",
    "        pca = PCA(n_components = n_components)\n",
    "        pca.fit(x_train)\n",
    "        x_train_pca = pca.transform(x_train)\n",
    "    else:\n",
    "        x_train_pca = x_train\n",
    "        pca = None\n",
    "    \n",
    "    model = regression_fn.fit(x_train_pca, y_train)\n",
    "    \n",
    "    if use_pca is True:\n",
    "        x_test = pca.transform(x_test)\n",
    "        \n",
    "    y_pred = model.predict(x_test)\n",
    "    \n",
    "    return {\n",
    "        'x_initial': X,\n",
    "        'x_train': x_train,\n",
    "        'x_train_pca': x_train_pca,\n",
    "        'x_test': x_test,\n",
    "        'y_train': y_train,\n",
    "        'y_test': y_test,\n",
    "        'y_pred': y_pred,\n",
    "        'pca': pca,\n",
    "        'model': model\n",
    "    }"
   ]
  },
  {
   "cell_type": "markdown",
   "id": "6bf37f3d-30c5-4404-b091-432b870e2eee",
   "metadata": {},
   "source": [
    "## Model Score with raw features"
   ]
  },
  {
   "cell_type": "code",
   "execution_count": 34,
   "id": "7c4fa90d-8803-4b23-bdf1-273abe40493b",
   "metadata": {},
   "outputs": [
    {
     "data": {
      "text/plain": [
       "0.589222384918251"
      ]
     },
     "execution_count": 34,
     "metadata": {},
     "output_type": "execute_result"
    }
   ],
   "source": [
    "res = build_model(LinearRegression(),\n",
    "                 'MEDV',\n",
    "                 data.drop(columns=['MEDV']).columns,\n",
    "                 data,\n",
    "                 10,\n",
    "                 False)\n",
    "r2_score(res['y_test'], res['y_pred'])"
   ]
  },
  {
   "cell_type": "markdown",
   "id": "22351b32-2cdc-4b7d-a305-23754cb260ef",
   "metadata": {},
   "source": [
    "## Model Scores with Various numbers of Principal Components"
   ]
  },
  {
   "cell_type": "code",
   "execution_count": 35,
   "id": "cb01a7bc-298a-4f1d-8b68-a7ee3fda395f",
   "metadata": {
    "tags": []
   },
   "outputs": [
    {
     "name": "stdout",
     "output_type": "stream",
     "text": [
      "Score for 1 componenets: 0.046771251015925386\n",
      "Score for 2 componenets: 0.05047945817362254\n",
      "Score for 3 componenets: 0.03956960788534314\n",
      "Score for 4 componenets: 0.03508138558569063\n",
      "Score for 5 componenets: 0.058989112121137\n",
      "Score for 6 componenets: 0.4113848116729749\n",
      "Score for 7 componenets: 0.4234544075864336\n",
      "Score for 8 componenets: 0.45674096784347573\n",
      "Score for 9 componenets: 0.4641096954930741\n",
      "Score for 10 componenets: 0.4933581560557617\n",
      "Score for 11 componenets: 0.5562653108020095\n",
      "Score for 12 componenets: 0.5621799204240052\n"
     ]
    }
   ],
   "source": [
    "for i in range (1, data.drop(columns=['MEDV']).shape[1]):\n",
    "    res = build_model(LinearRegression(),\n",
    "                     'MEDV',\n",
    "                     data.drop(columns=['MEDV']).columns,\n",
    "                     data,\n",
    "                     i,\n",
    "                     True)\n",
    "    print(f\"Score for {i} componenets:\", r2_score(res['y_test'], res['y_pred']))"
   ]
  },
  {
   "cell_type": "markdown",
   "id": "104af97b-f77e-42ce-8f81-644a4de5f9a4",
   "metadata": {},
   "source": [
    "## Plots first 2 components"
   ]
  },
  {
   "cell_type": "code",
   "execution_count": 36,
   "id": "66303b52-3433-403f-85c1-81d066172cf7",
   "metadata": {},
   "outputs": [
    {
     "data": {
      "image/png": "[encoded data removed]",
      "text/plain": [
       "<Figure size 1080x360 with 1 Axes>"
      ]
     },
     "metadata": {
      "needs_background": "light"
     },
     "output_type": "display_data"
    }
   ],
   "source": [
    "fig, ax = plt.subplots(figsize=(15, 5))\n",
    "plt.scatter(res['x_train_pca'].transpose()[0], res['x_train_pca'].transpose()[1]);"
   ]
  },
  {
   "cell_type": "code",
   "execution_count": null,
   "id": "64f4abb6-59e5-4ef4-84b6-65e830426bf7",
   "metadata": {},
   "outputs": [],
   "source": []
  }
 ],
 "metadata": {
  "kernelspec": {
   "display_name": "Python 3 (ipykernel)",
   "language": "python",
   "name": "python3"
  },
  "language_info": {
   "codemirror_mode": {
    "name": "ipython",
    "version": 3
   },
   "file_extension": ".py",
   "mimetype": "text/x-python",
   "name": "python",
   "nbconvert_exporter": "python",
   "pygments_lexer": "ipython3",
   "version": "3.9.10"
  }
 },
 "nbformat": 4,
 "nbformat_minor": 5
}
