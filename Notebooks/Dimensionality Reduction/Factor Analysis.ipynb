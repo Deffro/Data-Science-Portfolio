{
 "cells": [
  {
   "cell_type": "code",
   "execution_count": 1,
   "id": "74c36cd7-57da-48e9-875a-f1beed5164c4",
   "metadata": {},
   "outputs": [],
   "source": [
    "import pandas as pd\n",
    "import matplotlib.pyplot as plt\n",
    "from sklearn.model_selection import train_test_split\n",
    "from sklearn.linear_model import LogisticRegression\n",
    "from sklearn.decomposition import FactorAnalysis\n",
    "\n",
    "from sklearn.metrics import accuracy_score, precision_score, recall_score"
   ]
  },
  {
   "cell_type": "code",
   "execution_count": 2,
   "id": "7957e886-95c8-4748-b8ce-33415a8d9ae1",
   "metadata": {},
   "outputs": [
    {
     "data": {
      "text/html": [
       "<div>\n",
       "<style scoped>\n",
       "    .dataframe tbody tr th:only-of-type {\n",
       "        vertical-align: middle;\n",
       "    }\n",
       "\n",
       "    .dataframe tbody tr th {\n",
       "        vertical-align: top;\n",
       "    }\n",
       "\n",
       "    .dataframe thead th {\n",
       "        text-align: right;\n",
       "    }\n",
       "</style>\n",
       "<table border=\"1\" class=\"dataframe\">\n",
       "  <thead>\n",
       "    <tr style=\"text-align: right;\">\n",
       "      <th></th>\n",
       "      <th>Pregnancies</th>\n",
       "      <th>Glucose</th>\n",
       "      <th>BloodPressure</th>\n",
       "      <th>SkinThickness</th>\n",
       "      <th>Insulin</th>\n",
       "      <th>BMI</th>\n",
       "      <th>DiabetesPedigreeFunction</th>\n",
       "      <th>Age</th>\n",
       "      <th>Outcome</th>\n",
       "    </tr>\n",
       "  </thead>\n",
       "  <tbody>\n",
       "    <tr>\n",
       "      <th>0</th>\n",
       "      <td>6</td>\n",
       "      <td>148</td>\n",
       "      <td>72</td>\n",
       "      <td>35</td>\n",
       "      <td>0</td>\n",
       "      <td>33.6</td>\n",
       "      <td>0.627</td>\n",
       "      <td>50</td>\n",
       "      <td>1</td>\n",
       "    </tr>\n",
       "    <tr>\n",
       "      <th>1</th>\n",
       "      <td>1</td>\n",
       "      <td>85</td>\n",
       "      <td>66</td>\n",
       "      <td>29</td>\n",
       "      <td>0</td>\n",
       "      <td>26.6</td>\n",
       "      <td>0.351</td>\n",
       "      <td>31</td>\n",
       "      <td>0</td>\n",
       "    </tr>\n",
       "    <tr>\n",
       "      <th>2</th>\n",
       "      <td>8</td>\n",
       "      <td>183</td>\n",
       "      <td>64</td>\n",
       "      <td>0</td>\n",
       "      <td>0</td>\n",
       "      <td>23.3</td>\n",
       "      <td>0.672</td>\n",
       "      <td>32</td>\n",
       "      <td>1</td>\n",
       "    </tr>\n",
       "    <tr>\n",
       "      <th>3</th>\n",
       "      <td>1</td>\n",
       "      <td>89</td>\n",
       "      <td>66</td>\n",
       "      <td>23</td>\n",
       "      <td>94</td>\n",
       "      <td>28.1</td>\n",
       "      <td>0.167</td>\n",
       "      <td>21</td>\n",
       "      <td>0</td>\n",
       "    </tr>\n",
       "    <tr>\n",
       "      <th>4</th>\n",
       "      <td>0</td>\n",
       "      <td>137</td>\n",
       "      <td>40</td>\n",
       "      <td>35</td>\n",
       "      <td>168</td>\n",
       "      <td>43.1</td>\n",
       "      <td>2.288</td>\n",
       "      <td>33</td>\n",
       "      <td>1</td>\n",
       "    </tr>\n",
       "  </tbody>\n",
       "</table>\n",
       "</div>"
      ],
      "text/plain": [
       "   Pregnancies  Glucose  BloodPressure  SkinThickness  Insulin   BMI  \\\n",
       "0            6      148             72             35        0  33.6   \n",
       "1            1       85             66             29        0  26.6   \n",
       "2            8      183             64              0        0  23.3   \n",
       "3            1       89             66             23       94  28.1   \n",
       "4            0      137             40             35      168  43.1   \n",
       "\n",
       "   DiabetesPedigreeFunction  Age  Outcome  \n",
       "0                     0.627   50        1  \n",
       "1                     0.351   31        0  \n",
       "2                     0.672   32        1  \n",
       "3                     0.167   21        0  \n",
       "4                     2.288   33        1  "
      ]
     },
     "execution_count": 2,
     "metadata": {},
     "output_type": "execute_result"
    }
   ],
   "source": [
    "data = pd.read_csv('diabetes.csv')\n",
    "data.head()"
   ]
  },
  {
   "cell_type": "code",
   "execution_count": 3,
   "id": "78f7333a-3f71-45af-b484-9226cabc4a92",
   "metadata": {},
   "outputs": [],
   "source": [
    "def build_model(target,\n",
    "                features,\n",
    "                dataset,\n",
    "                n_components):\n",
    "    \n",
    "    X = dataset[features]\n",
    "    y = dataset[target]\n",
    "    \n",
    "    x_train, x_test, y_train, y_test = train_test_split(X, y, test_size=0.2, random_state=0)\n",
    "    \n",
    "    factor_analysis = FactorAnalysis(n_components = n_components, random_state=10)\n",
    "    factor_analysis.fit(x_train, y_train)    \n",
    "    x_train = factor_analysis.transform(x_train) \n",
    "\n",
    "    model = LogisticRegression(solver='liblinear')\n",
    "    model.fit(x_train, y_train)\n",
    "    \n",
    "    x_test = factor_analysis.transform(x_test)\n",
    "    y_pred = model.predict(x_test)\n",
    "    \n",
    "    return {\n",
    "        'factor_analysis_obj': factor_analysis,\n",
    "        'X_transform': x_train,\n",
    "        'accuracy': accuracy_score(y_test, y_pred),\n",
    "        'precision': precision_score(y_test, y_pred),\n",
    "        'recall': recall_score(y_test, y_pred),\n",
    "    }"
   ]
  },
  {
   "cell_type": "markdown",
   "id": "62b6b5ef-58b5-453b-b8ff-887a00111138",
   "metadata": {},
   "source": [
    "## Train models for different number of factors"
   ]
  },
  {
   "cell_type": "code",
   "execution_count": 4,
   "id": "c105d2b8-d274-41f9-963d-f3c72f4823bd",
   "metadata": {},
   "outputs": [
    {
     "name": "stdout",
     "output_type": "stream",
     "text": [
      "Score for 1 componenets: accuracy - 0.71, precision - 0.75, recall - 0.06\n",
      "Score for 2 componenets: accuracy - 0.80, precision - 0.71, recall - 0.57\n",
      "Score for 3 componenets: accuracy - 0.80, precision - 0.71, recall - 0.57\n",
      "Score for 4 componenets: accuracy - 0.75, precision - 0.62, recall - 0.51\n",
      "Score for 5 componenets: accuracy - 0.76, precision - 0.62, recall - 0.53\n",
      "Score for 6 componenets: accuracy - 0.80, precision - 0.69, recall - 0.62\n",
      "Score for 7 componenets: accuracy - 0.81, precision - 0.74, recall - 0.60\n"
     ]
    }
   ],
   "source": [
    "for i in range (1, data.drop(columns=['Outcome']).shape[1]):\n",
    "    res = build_model('Outcome',\n",
    "                      data.drop(columns=['Outcome']).columns,\n",
    "                      data,\n",
    "                      i\n",
    "                     )\n",
    "    print(f\"Score for {i} componenets: accuracy - {res['accuracy']:.2f}, precision - {res['precision']:.2f}, recall - {res['recall']:.2f}\")"
   ]
  },
  {
   "cell_type": "code",
   "execution_count": 5,
   "id": "4340e10e-2588-444a-a3ed-5b4201df74e6",
   "metadata": {},
   "outputs": [
    {
     "data": {
      "text/plain": [
       "array([0.99994583, 0.99999975, 0.99999992, 0.99999318, 0.99999992,\n",
       "       0.99999343, 0.10345736, 0.99999464])"
      ]
     },
     "execution_count": 5,
     "metadata": {},
     "output_type": "execute_result"
    }
   ],
   "source": [
    "res['factor_analysis_obj'].noise_variance_"
   ]
  },
  {
   "cell_type": "markdown",
   "id": "1bd3750b-4b82-470b-a4c1-e47faf615a11",
   "metadata": {},
   "source": [
    "## Visualize first 2 factors"
   ]
  },
  {
   "cell_type": "code",
   "execution_count": 6,
   "id": "2ce9cb46-3c53-4905-ae4e-769fcc9b3107",
   "metadata": {
    "tags": []
   },
   "outputs": [
    {
     "data": {
      "image/png": "[encoded data removed]",
      "text/plain": [
       "<Figure size 1080x360 with 1 Axes>"
      ]
     },
     "metadata": {
      "needs_background": "light"
     },
     "output_type": "display_data"
    }
   ],
   "source": [
    "fig, ax = plt.subplots(figsize=(15, 5))\n",
    "plt.scatter(res['X_transform'].transpose()[0], res['X_transform'].transpose()[1]);"
   ]
  },
  {
   "cell_type": "markdown",
   "id": "fca00d2c-f75b-4f7a-81ba-f99877bc7636",
   "metadata": {},
   "source": [
    "There is variation"
   ]
  },
  {
   "cell_type": "code",
   "execution_count": null,
   "id": "ce1192ed-dd7b-4212-976b-a3b3fb3f2d68",
   "metadata": {},
   "outputs": [],
   "source": []
  }
 ],
 "metadata": {
  "kernelspec": {
   "display_name": "Python 3 (ipykernel)",
   "language": "python",
   "name": "python3"
  },
  "language_info": {
   "codemirror_mode": {
    "name": "ipython",
    "version": 3
   },
   "file_extension": ".py",
   "mimetype": "text/x-python",
   "name": "python",
   "nbconvert_exporter": "python",
   "pygments_lexer": "ipython3",
   "version": "3.9.10"
  }
 },
 "nbformat": 4,
 "nbformat_minor": 5
}
