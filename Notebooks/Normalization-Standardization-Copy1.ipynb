{
 "cells": [
  {
   "cell_type": "markdown",
   "metadata": {},
   "source": [
    "## Normalization and Standardization\n",
    "\n",
    "Normalization/standardization are designed to achieve a similar goal, which is to create features that have similar ranges to each other and are widely used in data analysis to help the programmer to get some clue out of the raw data.\n",
    "\n",
    "This notebook includes:\n",
    "\n",
    "- Normalization\n",
    "- Why normalize?\n",
    "- Standardization\n",
    "- Why standardization?\n",
    "- Differences?\n",
    "- When to use and when not\n",
    "- Python code for Simple Feature Scaling, Min-Max, Z-score, log1p transformation"
   ]
  },
  {
   "cell_type": "markdown",
   "metadata": {},
   "source": [
    "## Import Libraries"
   ]
  },
  {
   "cell_type": "code",
   "execution_count": 1,
   "metadata": {},
   "outputs": [],
   "source": [
    "import pandas as pd\n",
    "import numpy as np\n",
    "import seaborn as sns \n",
    "import matplotlib.pyplot as plt\n",
    "%matplotlib inline \n",
    "sns.set_style(\"whitegrid\") #possible choices: white, dark, whitegrid, darkgrid, ticks"
   ]
  },
  {
   "cell_type": "markdown",
   "metadata": {},
   "source": [
    "House Prices Dataset from https://www.kaggle.com/c/house-prices-advanced-regression-techniques"
   ]
  },
  {
   "cell_type": "code",
   "execution_count": 2,
   "metadata": {},
   "outputs": [
    {
     "data": {
      "text/plain": [
       "0    208500\n",
       "1    181500\n",
       "2    223500\n",
       "3    140000\n",
       "4    250000\n",
       "Name: SalePrice, dtype: int64"
      ]
     },
     "execution_count": 2,
     "metadata": {},
     "output_type": "execute_result"
    }
   ],
   "source": [
    "train = pd.read_csv('train.csv')\n",
    "train['SalePrice'].head()"
   ]
  },
  {
   "cell_type": "code",
   "execution_count": 3,
   "metadata": {},
   "outputs": [
    {
     "data": {
      "text/plain": [
       "<matplotlib.axes._subplots.AxesSubplot at 0x324da1d8>"
      ]
     },
     "execution_count": 3,
     "metadata": {},
     "output_type": "execute_result"
    },
    {
     "data": {
      "image/png": "[encoded data removed]",
      "text/plain": [
       "<Figure size 432x288 with 1 Axes>"
      ]
     },
     "metadata": {},
     "output_type": "display_data"
    }
   ],
   "source": [
    "sns.distplot(train['SalePrice'])"
   ]
  },
  {
   "cell_type": "markdown",
   "metadata": {},
   "source": [
    "## Normalization and Standardization\n",
    "Normalization/standardization are designed to achieve a similar goal, which is to create features that have similar ranges to each other and are widely used in data analysis to help the programmer to get some clue out of the raw data.\n",
    "\n",
    "### Normalization\n",
    "It is the process of rescaling values between [0, 1].\n",
    "\n",
    "### Why normalization?\n",
    "1. Normalization makes training less sensitive to the scale of features, so we can better solve for coefficients. Outliers are gone, but still remain visible within the normalized data. \n",
    "2. The use of a normalization method will improve analysis for some models.\n",
    "3. Normalizing will ensure that a convergence problem does not have a massive variance, making optimization feasible.\n",
    "\n",
    "### Standardization\n",
    "It is the process of rescaling the features so that they’ll have the properties of a Gaussian distribution with μ=0 and σ=1.\n",
    "\n",
    "### Why standardization?\n",
    "1. Compare features that have different units or scales.\n",
    "2. Standardizing tends to make the training process well behaved because the numerical condition of the optimization problems is improved.\n",
    "\n",
    "### Differences?\n",
    "1. Sometimes, when normalization does not work, standardization might do the work.\n",
    "2. When using standardization, your new data aren’t bounded (unlike normalization).\n",
    "\n",
    "### When to use and when not\n",
    "Use for algorithms like:\n",
    "- k-Nearest Neighbors\n",
    "- k-Means\n",
    "- Logistic Regression\n",
    "- SVM\n",
    "- Perceptrons\n",
    "- PCA and LDA\n",
    "\n",
    "Don't use for algorithms like:\n",
    "- Decision Tree\n",
    "- Random Forest\n",
    "- XGBoost\n",
    "- LightGBM"
   ]
  },
  {
   "cell_type": "markdown",
   "metadata": {},
   "source": [
    "### Normalization Method 1 - Simple Feature Scaling\n",
    "Data is rescaled and new values are in [0, 1]."
   ]
  },
  {
   "cell_type": "code",
   "execution_count": 4,
   "metadata": {},
   "outputs": [
    {
     "data": {
      "text/plain": [
       "0    0.276159\n",
       "1    0.240397\n",
       "2    0.296026\n",
       "3    0.185430\n",
       "4    0.331126\n",
       "Name: SalePrice, dtype: float64"
      ]
     },
     "execution_count": 4,
     "metadata": {},
     "output_type": "execute_result"
    }
   ],
   "source": [
    "train1 = train.copy()\n",
    "train1['SalePrice'] = train1['SalePrice']/train1['SalePrice'].max()\n",
    "train1['SalePrice'].head()"
   ]
  },
  {
   "cell_type": "markdown",
   "metadata": {},
   "source": [
    "### Normalization Method 2 - Min-Max\n",
    "\n",
    "Data is rescaled and new values are in [0, 1].\n",
    "\n",
    "<img src=\"https://cdn-images-1.medium.com/max/800/0*oRhJXkyKqqYp8--e.\" alt=\"z-score\" style=\"width: 240px;\"/>"
   ]
  },
  {
   "cell_type": "code",
   "execution_count": 5,
   "metadata": {},
   "outputs": [
    {
     "data": {
      "text/plain": [
       "0    0.241078\n",
       "1    0.203583\n",
       "2    0.261908\n",
       "3    0.145952\n",
       "4    0.298709\n",
       "Name: SalePrice, dtype: float64"
      ]
     },
     "execution_count": 5,
     "metadata": {},
     "output_type": "execute_result"
    }
   ],
   "source": [
    "train2 = train.copy()\n",
    "train2['SalePrice'] = (train2['SalePrice']-train2['SalePrice'].min())/(train2['SalePrice'].max()-train2['SalePrice'].min())\n",
    "train2['SalePrice'].head()"
   ]
  },
  {
   "cell_type": "markdown",
   "metadata": {},
   "source": [
    "### Standarization - Z-score \n",
    "It is the process of rescaling the features so that they’ll have the properties of a Gaussian distribution with μ=0 and σ=1\n",
    "\n",
    "where μ is the mean and σ is the standard deviation from the mean; standard scores (also called z scores) of the samples are calculated as follows:\n",
    "\n",
    "<img src=\"https://cdn-images-1.medium.com/max/800/1*w5nOX2X-62jGQ6_52nqmFA@2x.png\" alt=\"z-score\" style=\"width: 100px;\"/>"
   ]
  },
  {
   "cell_type": "code",
   "execution_count": 15,
   "metadata": {},
   "outputs": [
    {
     "data": {
      "text/plain": [
       "0    0.347154\n",
       "1    0.007286\n",
       "2    0.535970\n",
       "3   -0.515105\n",
       "4    0.869545\n",
       "Name: SalePrice, dtype: float64"
      ]
     },
     "execution_count": 15,
     "metadata": {},
     "output_type": "execute_result"
    }
   ],
   "source": [
    "train3 = train.copy()\n",
    "train3['SalePrice'] = (train3['SalePrice']-train3['SalePrice'].mean())/train3['SalePrice'].std()\n",
    "train3['SalePrice'].head()"
   ]
  },
  {
   "cell_type": "markdown",
   "metadata": {},
   "source": [
    "### Transformation - log1p transformation.\n",
    "Usually used to transform price values to log. Then, applying statistical learning becomes a lot easier.\n",
    "\n",
    "Also, in case of positive skewness, log transformations usually works well."
   ]
  },
  {
   "cell_type": "code",
   "execution_count": 7,
   "metadata": {},
   "outputs": [
    {
     "data": {
      "text/plain": [
       "0    12.247699\n",
       "1    12.109016\n",
       "2    12.317171\n",
       "3    11.849405\n",
       "4    12.429220\n",
       "Name: SalePrice, dtype: float64"
      ]
     },
     "execution_count": 7,
     "metadata": {},
     "output_type": "execute_result"
    }
   ],
   "source": [
    "train4 = train.copy()\n",
    "train4['SalePrice'] = np.log1p(train3['SalePrice'])\n",
    "train4['SalePrice'].head()"
   ]
  },
  {
   "cell_type": "code",
   "execution_count": 8,
   "metadata": {},
   "outputs": [
    {
     "data": {
      "text/plain": [
       "<matplotlib.axes._subplots.AxesSubplot at 0x337635c8>"
      ]
     },
     "execution_count": 8,
     "metadata": {},
     "output_type": "execute_result"
    },
    {
     "data": {
      "image/png": "[encoded data removed]",
      "text/plain": [
       "<Figure size 432x288 with 1 Axes>"
      ]
     },
     "metadata": {},
     "output_type": "display_data"
    }
   ],
   "source": [
    "sns.distplot(train4['SalePrice'])"
   ]
  },
  {
   "cell_type": "markdown",
   "metadata": {},
   "source": [
    "Sources:\n",
    "\n",
    "<a href='https://medium.com/@rrfd/standardize-or-normalize-examples-in-python-e3f174b65dfc'>Medium - Standardize or Normalize? — Examples in Python</a>\n",
    "\n",
    "<a href='https://www.quora.com/What-is-the-difference-between-normalization-standardization-and-regularization-for-data'>Quora - What is the difference between normalization, standardization, and regularization for data?</a>\n",
    "\n",
    "<a href='http://www.dataminingblog.com/standardization-vs-normalization/'>dataminingblog - Standardization vs. Normalization</a>\n",
    "\n",
    "<a href='http://sebastianraschka.com/Articles/2014_about_feature_scaling.html'>sebastianraschka - About Feature Scaling and Normalization</a>"
   ]
  },
  {
   "cell_type": "code",
   "execution_count": 10,
   "metadata": {},
   "outputs": [
    {
     "data": {
      "text/plain": [
       "count      1460.000000\n",
       "mean     180921.195890\n",
       "std       79442.502883\n",
       "min       34900.000000\n",
       "25%      129975.000000\n",
       "50%      163000.000000\n",
       "75%      214000.000000\n",
       "max      755000.000000\n",
       "Name: SalePrice, dtype: float64"
      ]
     },
     "execution_count": 10,
     "metadata": {},
     "output_type": "execute_result"
    }
   ],
   "source": [
    "train['SalePrice'].describe()"
   ]
  },
  {
   "cell_type": "code",
   "execution_count": 11,
   "metadata": {},
   "outputs": [
    {
     "data": {
      "text/plain": [
       "count    1460.000000\n",
       "mean        0.239631\n",
       "std         0.105222\n",
       "min         0.046225\n",
       "25%         0.172152\n",
       "50%         0.215894\n",
       "75%         0.283444\n",
       "max         1.000000\n",
       "Name: SalePrice, dtype: float64"
      ]
     },
     "execution_count": 11,
     "metadata": {},
     "output_type": "execute_result"
    }
   ],
   "source": [
    "train1['SalePrice'].describe() #Simple Feature Scaling"
   ]
  },
  {
   "cell_type": "code",
   "execution_count": 13,
   "metadata": {},
   "outputs": [
    {
     "data": {
      "text/plain": [
       "count    1460.000000\n",
       "mean        0.202779\n",
       "std         0.110321\n",
       "min         0.000000\n",
       "25%         0.132030\n",
       "50%         0.177892\n",
       "75%         0.248715\n",
       "max         1.000000\n",
       "Name: SalePrice, dtype: float64"
      ]
     },
     "execution_count": 13,
     "metadata": {},
     "output_type": "execute_result"
    }
   ],
   "source": [
    "train2['SalePrice'].describe() #Min-Max"
   ]
  },
  {
   "cell_type": "code",
   "execution_count": 16,
   "metadata": {},
   "outputs": [
    {
     "data": {
      "text/plain": [
       "count    1.460000e+03\n",
       "mean     1.314017e-16\n",
       "std      1.000000e+00\n",
       "min     -1.838074e+00\n",
       "25%     -6.412965e-01\n",
       "50%     -2.255870e-01\n",
       "75%      4.163867e-01\n",
       "max      7.226343e+00\n",
       "Name: SalePrice, dtype: float64"
      ]
     },
     "execution_count": 16,
     "metadata": {},
     "output_type": "execute_result"
    }
   ],
   "source": [
    "train3['SalePrice'].describe() #Z-score"
   ]
  },
  {
   "cell_type": "code",
   "execution_count": null,
   "metadata": {},
   "outputs": [],
   "source": []
  }
 ],
 "metadata": {
  "kernelspec": {
   "display_name": "Python 3",
   "language": "python",
   "name": "python3"
  },
  "language_info": {
   "codemirror_mode": {
    "name": "ipython",
    "version": 3
   },
   "file_extension": ".py",
   "mimetype": "text/x-python",
   "name": "python",
   "nbconvert_exporter": "python",
   "pygments_lexer": "ipython3",
   "version": "3.8.3"
  }
 },
 "nbformat": 4,
 "nbformat_minor": 2
}
