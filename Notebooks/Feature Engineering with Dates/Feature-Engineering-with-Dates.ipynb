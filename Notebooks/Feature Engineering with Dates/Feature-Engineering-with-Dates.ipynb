{
 "cells": [
  {
   "cell_type": "markdown",
   "metadata": {},
   "source": [
    "### Feature Engineering with Dates\n",
    "\n",
    "In this tutorial I present the *datetime* format that Pandas provides to handle datetime features. In the end I create a function that generates **23** features from a **single** one.\n",
    "\n",
    "Dates and Times are very precious features for businesses and sales. While a single column can't help us make meaningful insights and take important decisions, creating a handful of features from it can transform data into profit."
   ]
  },
  {
   "cell_type": "markdown",
   "metadata": {},
   "source": [
    "### Import Libraries"
   ]
  },
  {
   "cell_type": "code",
   "execution_count": 1,
   "metadata": {},
   "outputs": [],
   "source": [
    "import numpy as np\n",
    "import pandas as pd\n",
    "import datetime\n",
    "import matplotlib.pylab as plt\n",
    "import seaborn as sns\n",
    "from itertools import cycle\n",
    "plt.style.use('bmh')\n",
    "color_pal = plt.rcParams['axes.prop_cycle'].by_key()['color']\n",
    "color_cycle = cycle(plt.rcParams['axes.prop_cycle'].by_key()['color'])\n",
    "%matplotlib inline \n",
    "sns.set_style(\"whitegrid\")\n",
    "\n",
    "pd.set_option('display.max_columns', 500)\n",
    "pd.set_option('display.max_rows', 500)\n",
    "pd.set_option('max_colwidth', 100)"
   ]
  },
  {
   "cell_type": "code",
   "execution_count": 2,
   "metadata": {
    "scrolled": true
   },
   "outputs": [
    {
     "data": {
      "text/html": [
       "<div>\n",
       "<style scoped>\n",
       "    .dataframe tbody tr th:only-of-type {\n",
       "        vertical-align: middle;\n",
       "    }\n",
       "\n",
       "    .dataframe tbody tr th {\n",
       "        vertical-align: top;\n",
       "    }\n",
       "\n",
       "    .dataframe thead th {\n",
       "        text-align: right;\n",
       "    }\n",
       "</style>\n",
       "<table border=\"1\" class=\"dataframe\">\n",
       "  <thead>\n",
       "    <tr style=\"text-align: right;\">\n",
       "      <th></th>\n",
       "      <th>card_id</th>\n",
       "      <th>purchase_date</th>\n",
       "      <th>city_id</th>\n",
       "      <th>category_1</th>\n",
       "      <th>category_2</th>\n",
       "      <th>category_3</th>\n",
       "      <th>month_lag</th>\n",
       "      <th>purchase_amount</th>\n",
       "    </tr>\n",
       "  </thead>\n",
       "  <tbody>\n",
       "    <tr>\n",
       "      <td>0</td>\n",
       "      <td>C_ID_415bb3a509</td>\n",
       "      <td>3/11/2018 14:57</td>\n",
       "      <td>107</td>\n",
       "      <td>N</td>\n",
       "      <td>1.0</td>\n",
       "      <td>B</td>\n",
       "      <td>1</td>\n",
       "      <td>-0.557574</td>\n",
       "    </tr>\n",
       "    <tr>\n",
       "      <td>1</td>\n",
       "      <td>C_ID_415bb3a509</td>\n",
       "      <td>3/19/2018 18:53</td>\n",
       "      <td>140</td>\n",
       "      <td>N</td>\n",
       "      <td>1.0</td>\n",
       "      <td>B</td>\n",
       "      <td>1</td>\n",
       "      <td>-0.569580</td>\n",
       "    </tr>\n",
       "    <tr>\n",
       "      <td>2</td>\n",
       "      <td>C_ID_415bb3a509</td>\n",
       "      <td>4/26/2018 14:08</td>\n",
       "      <td>330</td>\n",
       "      <td>N</td>\n",
       "      <td>1.0</td>\n",
       "      <td>B</td>\n",
       "      <td>2</td>\n",
       "      <td>-0.551037</td>\n",
       "    </tr>\n",
       "    <tr>\n",
       "      <td>3</td>\n",
       "      <td>C_ID_415bb3a509</td>\n",
       "      <td>3/7/2018 9:43</td>\n",
       "      <td>-1</td>\n",
       "      <td>Y</td>\n",
       "      <td>NaN</td>\n",
       "      <td>B</td>\n",
       "      <td>1</td>\n",
       "      <td>-0.671926</td>\n",
       "    </tr>\n",
       "    <tr>\n",
       "      <td>4</td>\n",
       "      <td>C_ID_ef55cf8d4b</td>\n",
       "      <td>3/22/2018 21:07</td>\n",
       "      <td>-1</td>\n",
       "      <td>Y</td>\n",
       "      <td>NaN</td>\n",
       "      <td>B</td>\n",
       "      <td>1</td>\n",
       "      <td>-0.659904</td>\n",
       "    </tr>\n",
       "  </tbody>\n",
       "</table>\n",
       "</div>"
      ],
      "text/plain": [
       "           card_id    purchase_date  city_id category_1  category_2  \\\n",
       "0  C_ID_415bb3a509  3/11/2018 14:57      107          N         1.0   \n",
       "1  C_ID_415bb3a509  3/19/2018 18:53      140          N         1.0   \n",
       "2  C_ID_415bb3a509  4/26/2018 14:08      330          N         1.0   \n",
       "3  C_ID_415bb3a509    3/7/2018 9:43       -1          Y         NaN   \n",
       "4  C_ID_ef55cf8d4b  3/22/2018 21:07       -1          Y         NaN   \n",
       "\n",
       "  category_3  month_lag  purchase_amount  \n",
       "0          B          1        -0.557574  \n",
       "1          B          1        -0.569580  \n",
       "2          B          2        -0.551037  \n",
       "3          B          1        -0.671926  \n",
       "4          B          1        -0.659904  "
      ]
     },
     "execution_count": 2,
     "metadata": {},
     "output_type": "execute_result"
    }
   ],
   "source": [
    "data = pd.read_csv('dataset_with_dates.csv')\n",
    "data.head()"
   ]
  },
  {
   "cell_type": "markdown",
   "metadata": {},
   "source": [
    "### First Step\n",
    "Convert date to [datetime](https://pandas.pydata.org/pandas-docs/stable/reference/api/pandas.to_datetime.html) format using Pandas.\n",
    "\n",
    "After conversion each Series (one column) can be used to access and return several datetime properties like *Series.dt.property"
   ]
  },
  {
   "cell_type": "code",
   "execution_count": 3,
   "metadata": {},
   "outputs": [
    {
     "data": {
      "text/html": [
       "<div>\n",
       "<style scoped>\n",
       "    .dataframe tbody tr th:only-of-type {\n",
       "        vertical-align: middle;\n",
       "    }\n",
       "\n",
       "    .dataframe tbody tr th {\n",
       "        vertical-align: top;\n",
       "    }\n",
       "\n",
       "    .dataframe thead th {\n",
       "        text-align: right;\n",
       "    }\n",
       "</style>\n",
       "<table border=\"1\" class=\"dataframe\">\n",
       "  <thead>\n",
       "    <tr style=\"text-align: right;\">\n",
       "      <th></th>\n",
       "      <th>card_id</th>\n",
       "      <th>purchase_date</th>\n",
       "      <th>city_id</th>\n",
       "      <th>category_1</th>\n",
       "      <th>category_2</th>\n",
       "      <th>category_3</th>\n",
       "      <th>month_lag</th>\n",
       "      <th>purchase_amount</th>\n",
       "    </tr>\n",
       "  </thead>\n",
       "  <tbody>\n",
       "    <tr>\n",
       "      <td>0</td>\n",
       "      <td>C_ID_415bb3a509</td>\n",
       "      <td>2018-03-11 14:57:00</td>\n",
       "      <td>107</td>\n",
       "      <td>N</td>\n",
       "      <td>1.0</td>\n",
       "      <td>B</td>\n",
       "      <td>1</td>\n",
       "      <td>-0.557574</td>\n",
       "    </tr>\n",
       "  </tbody>\n",
       "</table>\n",
       "</div>"
      ],
      "text/plain": [
       "           card_id       purchase_date  city_id category_1  category_2  \\\n",
       "0  C_ID_415bb3a509 2018-03-11 14:57:00      107          N         1.0   \n",
       "\n",
       "  category_3  month_lag  purchase_amount  \n",
       "0          B          1        -0.557574  "
      ]
     },
     "execution_count": 3,
     "metadata": {},
     "output_type": "execute_result"
    }
   ],
   "source": [
    "data['purchase_date'] = pd.to_datetime(data['purchase_date']) \n",
    "data.head(1)"
   ]
  },
  {
   "cell_type": "markdown",
   "metadata": {},
   "source": [
    "### Properties"
   ]
  },
  {
   "cell_type": "markdown",
   "metadata": {},
   "source": [
    "**Series.dt.date** - Returns the date part of datetime without timezone information"
   ]
  },
  {
   "cell_type": "code",
   "execution_count": 4,
   "metadata": {},
   "outputs": [
    {
     "data": {
      "text/plain": [
       "0    2018-03-11\n",
       "Name: purchase_date, dtype: object"
      ]
     },
     "execution_count": 4,
     "metadata": {},
     "output_type": "execute_result"
    }
   ],
   "source": [
    "data['purchase_date'].dt.date.head(1)"
   ]
  },
  {
   "cell_type": "markdown",
   "metadata": {},
   "source": [
    "**Series.dt.time** - Returns the time part of datetime"
   ]
  },
  {
   "cell_type": "code",
   "execution_count": 5,
   "metadata": {},
   "outputs": [
    {
     "data": {
      "text/plain": [
       "0    14:57:00\n",
       "Name: purchase_date, dtype: object"
      ]
     },
     "execution_count": 5,
     "metadata": {},
     "output_type": "execute_result"
    }
   ],
   "source": [
    "data['purchase_date'].dt.time.head(1)"
   ]
  },
  {
   "cell_type": "markdown",
   "metadata": {},
   "source": [
    "**Series.dt.year** - Returns the year (int) of the datetime"
   ]
  },
  {
   "cell_type": "code",
   "execution_count": 6,
   "metadata": {},
   "outputs": [
    {
     "data": {
      "text/plain": [
       "0    2018\n",
       "Name: purchase_date, dtype: int64"
      ]
     },
     "execution_count": 6,
     "metadata": {},
     "output_type": "execute_result"
    }
   ],
   "source": [
    "data['purchase_date'].dt.year.head(1)"
   ]
  },
  {
   "cell_type": "markdown",
   "metadata": {},
   "source": [
    "**Series.dt.month** - Returns the month (int) of the datetime"
   ]
  },
  {
   "cell_type": "code",
   "execution_count": 7,
   "metadata": {},
   "outputs": [
    {
     "data": {
      "text/plain": [
       "0    3\n",
       "Name: purchase_date, dtype: int64"
      ]
     },
     "execution_count": 7,
     "metadata": {},
     "output_type": "execute_result"
    }
   ],
   "source": [
    "data['purchase_date'].dt.month.head(1)"
   ]
  },
  {
   "cell_type": "markdown",
   "metadata": {},
   "source": [
    "**Series.dt.day** - Returns the day (int) of the datetime"
   ]
  },
  {
   "cell_type": "code",
   "execution_count": 8,
   "metadata": {},
   "outputs": [
    {
     "data": {
      "text/plain": [
       "0    11\n",
       "Name: purchase_date, dtype: int64"
      ]
     },
     "execution_count": 8,
     "metadata": {},
     "output_type": "execute_result"
    }
   ],
   "source": [
    "data['purchase_date'].dt.day.head(1)"
   ]
  },
  {
   "cell_type": "markdown",
   "metadata": {},
   "source": [
    "**Series.dt.hour** - Returns the hour (int) of the datetime"
   ]
  },
  {
   "cell_type": "code",
   "execution_count": 9,
   "metadata": {},
   "outputs": [
    {
     "data": {
      "text/plain": [
       "0    14\n",
       "Name: purchase_date, dtype: int64"
      ]
     },
     "execution_count": 9,
     "metadata": {},
     "output_type": "execute_result"
    }
   ],
   "source": [
    "data['purchase_date'].dt.hour.head(1)"
   ]
  },
  {
   "cell_type": "markdown",
   "metadata": {},
   "source": [
    "**Series.dt.minute** - Returns the minute (int) of the datetime"
   ]
  },
  {
   "cell_type": "code",
   "execution_count": 10,
   "metadata": {},
   "outputs": [
    {
     "data": {
      "text/plain": [
       "0    57\n",
       "Name: purchase_date, dtype: int64"
      ]
     },
     "execution_count": 10,
     "metadata": {},
     "output_type": "execute_result"
    }
   ],
   "source": [
    "data['purchase_date'].dt.minute.head(1)"
   ]
  },
  {
   "cell_type": "markdown",
   "metadata": {},
   "source": [
    "**Series.dt.second/microsecond/nanosecond** - Returns the second/microsecond/nanosecond (int) of the datetime"
   ]
  },
  {
   "cell_type": "code",
   "execution_count": 11,
   "metadata": {},
   "outputs": [
    {
     "data": {
      "text/plain": [
       "0    0\n",
       "Name: purchase_date, dtype: int64"
      ]
     },
     "execution_count": 11,
     "metadata": {},
     "output_type": "execute_result"
    }
   ],
   "source": [
    "data['purchase_date'].dt.second.head(1)"
   ]
  },
  {
   "cell_type": "markdown",
   "metadata": {},
   "source": [
    "**Series.dt.week/weekofyear** - Returns the week number of the year. Both properties are the same"
   ]
  },
  {
   "cell_type": "code",
   "execution_count": 12,
   "metadata": {},
   "outputs": [
    {
     "data": {
      "text/plain": [
       "0    10\n",
       "Name: purchase_date, dtype: int64"
      ]
     },
     "execution_count": 12,
     "metadata": {},
     "output_type": "execute_result"
    }
   ],
   "source": [
    "data['purchase_date'].dt.week.head(1)"
   ]
  },
  {
   "cell_type": "markdown",
   "metadata": {},
   "source": [
    "**Series.dt.dayofweek/weekday** - Returns the day of the week with Monday=0 and Sunday=6. Both properties are the same"
   ]
  },
  {
   "cell_type": "code",
   "execution_count": 13,
   "metadata": {},
   "outputs": [
    {
     "data": {
      "text/plain": [
       "0    6\n",
       "Name: purchase_date, dtype: int64"
      ]
     },
     "execution_count": 13,
     "metadata": {},
     "output_type": "execute_result"
    }
   ],
   "source": [
    "data['purchase_date'].dt.dayofweek.head(1)"
   ]
  },
  {
   "cell_type": "markdown",
   "metadata": {},
   "source": [
    "**Series.dt.dayofyear** - Returns the ordinal day of the year"
   ]
  },
  {
   "cell_type": "code",
   "execution_count": 14,
   "metadata": {},
   "outputs": [
    {
     "data": {
      "text/plain": [
       "0    70\n",
       "Name: purchase_date, dtype: int64"
      ]
     },
     "execution_count": 14,
     "metadata": {},
     "output_type": "execute_result"
    }
   ],
   "source": [
    "data['purchase_date'].dt.dayofyear.head(1)"
   ]
  },
  {
   "cell_type": "markdown",
   "metadata": {},
   "source": [
    "**Series.dt.quarter** - Returns the quarter of the date"
   ]
  },
  {
   "cell_type": "code",
   "execution_count": 15,
   "metadata": {},
   "outputs": [
    {
     "data": {
      "text/plain": [
       "0    1\n",
       "Name: purchase_date, dtype: int64"
      ]
     },
     "execution_count": 15,
     "metadata": {},
     "output_type": "execute_result"
    }
   ],
   "source": [
    "data['purchase_date'].dt.quarter.head(1)"
   ]
  },
  {
   "cell_type": "markdown",
   "metadata": {},
   "source": [
    "**Series.dt.is_month_start** - Indicator for whether the date is the first day of the month"
   ]
  },
  {
   "cell_type": "code",
   "execution_count": 16,
   "metadata": {},
   "outputs": [
    {
     "data": {
      "text/plain": [
       "0    False\n",
       "Name: purchase_date, dtype: bool"
      ]
     },
     "execution_count": 16,
     "metadata": {},
     "output_type": "execute_result"
    }
   ],
   "source": [
    "data['purchase_date'].dt.is_month_start.head(1)"
   ]
  },
  {
   "cell_type": "markdown",
   "metadata": {},
   "source": [
    "**Series.dt.is_month_end** - Indicator for whether the date is the last day of the month"
   ]
  },
  {
   "cell_type": "code",
   "execution_count": 17,
   "metadata": {},
   "outputs": [
    {
     "data": {
      "text/plain": [
       "0    False\n",
       "Name: purchase_date, dtype: bool"
      ]
     },
     "execution_count": 17,
     "metadata": {},
     "output_type": "execute_result"
    }
   ],
   "source": [
    "data['purchase_date'].dt.is_month_end.head(1)"
   ]
  },
  {
   "cell_type": "markdown",
   "metadata": {},
   "source": [
    "**Series.dt.is_quarter_start** - Indicator for whether the date is the first day of a quarter"
   ]
  },
  {
   "cell_type": "code",
   "execution_count": 18,
   "metadata": {},
   "outputs": [
    {
     "data": {
      "text/plain": [
       "0    False\n",
       "Name: purchase_date, dtype: bool"
      ]
     },
     "execution_count": 18,
     "metadata": {},
     "output_type": "execute_result"
    }
   ],
   "source": [
    "data['purchase_date'].dt.is_quarter_start.head(1)"
   ]
  },
  {
   "cell_type": "markdown",
   "metadata": {},
   "source": [
    "**Series.dt.is_quarter_end** - Indicator for whether the date is the last day of a quarter"
   ]
  },
  {
   "cell_type": "code",
   "execution_count": 19,
   "metadata": {},
   "outputs": [
    {
     "data": {
      "text/plain": [
       "0    False\n",
       "Name: purchase_date, dtype: bool"
      ]
     },
     "execution_count": 19,
     "metadata": {},
     "output_type": "execute_result"
    }
   ],
   "source": [
    "data['purchase_date'].dt.is_quarter_end.head(1)"
   ]
  },
  {
   "cell_type": "markdown",
   "metadata": {},
   "source": [
    "**Series.dt.is_year_start** - Indicate whether the date is the first day of a year"
   ]
  },
  {
   "cell_type": "code",
   "execution_count": 20,
   "metadata": {},
   "outputs": [
    {
     "data": {
      "text/plain": [
       "0    False\n",
       "Name: purchase_date, dtype: bool"
      ]
     },
     "execution_count": 20,
     "metadata": {},
     "output_type": "execute_result"
    }
   ],
   "source": [
    "data['purchase_date'].dt.is_year_start.head(1)"
   ]
  },
  {
   "cell_type": "markdown",
   "metadata": {},
   "source": [
    "**Series.dt.is_year_end** - Indicate whether the date is the last day of a year"
   ]
  },
  {
   "cell_type": "code",
   "execution_count": 21,
   "metadata": {},
   "outputs": [
    {
     "data": {
      "text/plain": [
       "0    False\n",
       "Name: purchase_date, dtype: bool"
      ]
     },
     "execution_count": 21,
     "metadata": {},
     "output_type": "execute_result"
    }
   ],
   "source": [
    "data['purchase_date'].dt.is_year_end.head(1)"
   ]
  },
  {
   "cell_type": "markdown",
   "metadata": {},
   "source": [
    "**Series.dt.is_leap_year** - Indicate whether the date belongs to a leap year"
   ]
  },
  {
   "cell_type": "code",
   "execution_count": 22,
   "metadata": {},
   "outputs": [
    {
     "data": {
      "text/plain": [
       "0    False\n",
       "Name: purchase_date, dtype: bool"
      ]
     },
     "execution_count": 22,
     "metadata": {},
     "output_type": "execute_result"
    }
   ],
   "source": [
    "data['purchase_date'].dt.is_leap_year.head(1)"
   ]
  },
  {
   "cell_type": "markdown",
   "metadata": {},
   "source": [
    "### Feature Engineering"
   ]
  },
  {
   "cell_type": "code",
   "execution_count": 23,
   "metadata": {},
   "outputs": [],
   "source": [
    "# Takes a dataframe and the column name as inputs\n",
    "def create_datetime_features(df, c):\n",
    "    if (df[c].dtype!='datetime64[ns]'):\n",
    "        pd.to_datetime(df[c]) \n",
    "        \n",
    "    df['year'] = df[c].dt.year\n",
    "    df['month'] = df[c].dt.month\n",
    "    df['day'] = df[c].dt.day\n",
    "    df['hour'] = df[c].dt.hour\n",
    "    df['session'] = df['hour'].apply(lambda x: get_session(x))\n",
    "    df['minute'] = df[c].dt.minute\n",
    "    df['second'] = df[c].dt.second\n",
    "    df['week'] = df[c].dt.week\n",
    "    df['dayofweek'] = df[c].dt.dayofweek\n",
    "    df['isWeekend'] = (df[c].dt.dayofweek >=5).astype(int)\n",
    "    df['isWeekday'] = (df[c].dt.dayofweek < 5).astype(int)\n",
    "    df['dayofyear'] = df[c].dt.dayofyear\n",
    "    df['quarter'] = df[c].dt.quarter\n",
    "    df['isMonthStart'] = df[c].dt.is_month_start.astype(int)\n",
    "    df['isMonthEnd'] = df[c].dt.is_month_end.astype(int)\n",
    "    df['isQuarterStart'] = df[c].dt.is_quarter_start.astype(int)\n",
    "    df['isQuarterEnd'] = df[c].dt.is_quarter_end.astype(int)\n",
    "    df['isYearStart'] = df[c].dt.is_year_start.astype(int)\n",
    "    df['isYearEnd'] = df[c].dt.is_year_end.astype(int)\n",
    "    df['isLeapYear'] = df[c].dt.is_leap_year.astype(int)\n",
    "    df['monthDifferenceFromToday'] = (datetime.datetime.today() - df[c]).dt.days//30\n",
    "    df['dayDifferenceFromToday'] = (datetime.datetime.today() - df[c]).dt.days\n",
    "    # Count days until a specific date arrives (value=0 on the day of the event)\n",
    "    df['blackFriday2017']=(pd.to_datetime('2017-11-24') - df[c]).dt.days.apply(lambda x: x if x >= 0 and x < 100 else -1)\n",
    "\n",
    "    \n",
    "def get_session(time):\n",
    "    if time > 4 and time<12:\n",
    "        return 0 # Morning\n",
    "    elif time >= 12 and time < 17:\n",
    "        return 1 # Afternoon\n",
    "    elif time >= 17 and time < 21:\n",
    "        return 2 # Evening\n",
    "    else:\n",
    "        return 3 # Night    "
   ]
  },
  {
   "cell_type": "code",
   "execution_count": 24,
   "metadata": {
    "scrolled": true
   },
   "outputs": [],
   "source": [
    "create_datetime_features(data, 'purchase_date')"
   ]
  },
  {
   "cell_type": "code",
   "execution_count": 25,
   "metadata": {},
   "outputs": [
    {
     "data": {
      "text/html": [
       "<div>\n",
       "<style scoped>\n",
       "    .dataframe tbody tr th:only-of-type {\n",
       "        vertical-align: middle;\n",
       "    }\n",
       "\n",
       "    .dataframe tbody tr th {\n",
       "        vertical-align: top;\n",
       "    }\n",
       "\n",
       "    .dataframe thead th {\n",
       "        text-align: right;\n",
       "    }\n",
       "</style>\n",
       "<table border=\"1\" class=\"dataframe\">\n",
       "  <thead>\n",
       "    <tr style=\"text-align: right;\">\n",
       "      <th></th>\n",
       "      <th>card_id</th>\n",
       "      <th>purchase_date</th>\n",
       "      <th>city_id</th>\n",
       "      <th>category_1</th>\n",
       "      <th>category_2</th>\n",
       "      <th>category_3</th>\n",
       "      <th>month_lag</th>\n",
       "      <th>purchase_amount</th>\n",
       "      <th>year</th>\n",
       "      <th>month</th>\n",
       "      <th>day</th>\n",
       "      <th>hour</th>\n",
       "      <th>session</th>\n",
       "      <th>minute</th>\n",
       "      <th>second</th>\n",
       "      <th>week</th>\n",
       "      <th>dayofweek</th>\n",
       "      <th>isWeekend</th>\n",
       "      <th>isWeekday</th>\n",
       "      <th>dayofyear</th>\n",
       "      <th>quarter</th>\n",
       "      <th>isMonthStart</th>\n",
       "      <th>isMonthEnd</th>\n",
       "      <th>isQuarterStart</th>\n",
       "      <th>isQuarterEnd</th>\n",
       "      <th>isYearStart</th>\n",
       "      <th>isYearEnd</th>\n",
       "      <th>isLeapYear</th>\n",
       "      <th>monthDifferenceFromToday</th>\n",
       "      <th>dayDifferenceFromToday</th>\n",
       "      <th>blackFriday2017</th>\n",
       "    </tr>\n",
       "  </thead>\n",
       "  <tbody>\n",
       "    <tr>\n",
       "      <td>0</td>\n",
       "      <td>C_ID_415bb3a509</td>\n",
       "      <td>2018-03-11 14:57:00</td>\n",
       "      <td>107</td>\n",
       "      <td>N</td>\n",
       "      <td>1.0</td>\n",
       "      <td>B</td>\n",
       "      <td>1</td>\n",
       "      <td>-0.557574</td>\n",
       "      <td>2018</td>\n",
       "      <td>3</td>\n",
       "      <td>11</td>\n",
       "      <td>14</td>\n",
       "      <td>1</td>\n",
       "      <td>57</td>\n",
       "      <td>0</td>\n",
       "      <td>10</td>\n",
       "      <td>6</td>\n",
       "      <td>1</td>\n",
       "      <td>0</td>\n",
       "      <td>70</td>\n",
       "      <td>1</td>\n",
       "      <td>0</td>\n",
       "      <td>0</td>\n",
       "      <td>0</td>\n",
       "      <td>0</td>\n",
       "      <td>0</td>\n",
       "      <td>0</td>\n",
       "      <td>0</td>\n",
       "      <td>25</td>\n",
       "      <td>753</td>\n",
       "      <td>-1</td>\n",
       "    </tr>\n",
       "    <tr>\n",
       "      <td>1</td>\n",
       "      <td>C_ID_415bb3a509</td>\n",
       "      <td>2018-03-19 18:53:00</td>\n",
       "      <td>140</td>\n",
       "      <td>N</td>\n",
       "      <td>1.0</td>\n",
       "      <td>B</td>\n",
       "      <td>1</td>\n",
       "      <td>-0.569580</td>\n",
       "      <td>2018</td>\n",
       "      <td>3</td>\n",
       "      <td>19</td>\n",
       "      <td>18</td>\n",
       "      <td>2</td>\n",
       "      <td>53</td>\n",
       "      <td>0</td>\n",
       "      <td>12</td>\n",
       "      <td>0</td>\n",
       "      <td>0</td>\n",
       "      <td>1</td>\n",
       "      <td>78</td>\n",
       "      <td>1</td>\n",
       "      <td>0</td>\n",
       "      <td>0</td>\n",
       "      <td>0</td>\n",
       "      <td>0</td>\n",
       "      <td>0</td>\n",
       "      <td>0</td>\n",
       "      <td>0</td>\n",
       "      <td>24</td>\n",
       "      <td>744</td>\n",
       "      <td>-1</td>\n",
       "    </tr>\n",
       "    <tr>\n",
       "      <td>2</td>\n",
       "      <td>C_ID_415bb3a509</td>\n",
       "      <td>2018-04-26 14:08:00</td>\n",
       "      <td>330</td>\n",
       "      <td>N</td>\n",
       "      <td>1.0</td>\n",
       "      <td>B</td>\n",
       "      <td>2</td>\n",
       "      <td>-0.551037</td>\n",
       "      <td>2018</td>\n",
       "      <td>4</td>\n",
       "      <td>26</td>\n",
       "      <td>14</td>\n",
       "      <td>1</td>\n",
       "      <td>8</td>\n",
       "      <td>0</td>\n",
       "      <td>17</td>\n",
       "      <td>3</td>\n",
       "      <td>0</td>\n",
       "      <td>1</td>\n",
       "      <td>116</td>\n",
       "      <td>2</td>\n",
       "      <td>0</td>\n",
       "      <td>0</td>\n",
       "      <td>0</td>\n",
       "      <td>0</td>\n",
       "      <td>0</td>\n",
       "      <td>0</td>\n",
       "      <td>0</td>\n",
       "      <td>23</td>\n",
       "      <td>707</td>\n",
       "      <td>-1</td>\n",
       "    </tr>\n",
       "    <tr>\n",
       "      <td>3</td>\n",
       "      <td>C_ID_415bb3a509</td>\n",
       "      <td>2018-03-07 09:43:00</td>\n",
       "      <td>-1</td>\n",
       "      <td>Y</td>\n",
       "      <td>NaN</td>\n",
       "      <td>B</td>\n",
       "      <td>1</td>\n",
       "      <td>-0.671926</td>\n",
       "      <td>2018</td>\n",
       "      <td>3</td>\n",
       "      <td>7</td>\n",
       "      <td>9</td>\n",
       "      <td>0</td>\n",
       "      <td>43</td>\n",
       "      <td>0</td>\n",
       "      <td>10</td>\n",
       "      <td>2</td>\n",
       "      <td>0</td>\n",
       "      <td>1</td>\n",
       "      <td>66</td>\n",
       "      <td>1</td>\n",
       "      <td>0</td>\n",
       "      <td>0</td>\n",
       "      <td>0</td>\n",
       "      <td>0</td>\n",
       "      <td>0</td>\n",
       "      <td>0</td>\n",
       "      <td>0</td>\n",
       "      <td>25</td>\n",
       "      <td>757</td>\n",
       "      <td>-1</td>\n",
       "    </tr>\n",
       "    <tr>\n",
       "      <td>4</td>\n",
       "      <td>C_ID_ef55cf8d4b</td>\n",
       "      <td>2018-03-22 21:07:00</td>\n",
       "      <td>-1</td>\n",
       "      <td>Y</td>\n",
       "      <td>NaN</td>\n",
       "      <td>B</td>\n",
       "      <td>1</td>\n",
       "      <td>-0.659904</td>\n",
       "      <td>2018</td>\n",
       "      <td>3</td>\n",
       "      <td>22</td>\n",
       "      <td>21</td>\n",
       "      <td>3</td>\n",
       "      <td>7</td>\n",
       "      <td>0</td>\n",
       "      <td>12</td>\n",
       "      <td>3</td>\n",
       "      <td>0</td>\n",
       "      <td>1</td>\n",
       "      <td>81</td>\n",
       "      <td>1</td>\n",
       "      <td>0</td>\n",
       "      <td>0</td>\n",
       "      <td>0</td>\n",
       "      <td>0</td>\n",
       "      <td>0</td>\n",
       "      <td>0</td>\n",
       "      <td>0</td>\n",
       "      <td>24</td>\n",
       "      <td>741</td>\n",
       "      <td>-1</td>\n",
       "    </tr>\n",
       "    <tr>\n",
       "      <td>5</td>\n",
       "      <td>C_ID_ef55cf8d4b</td>\n",
       "      <td>2018-04-02 12:53:00</td>\n",
       "      <td>231</td>\n",
       "      <td>N</td>\n",
       "      <td>1.0</td>\n",
       "      <td>B</td>\n",
       "      <td>2</td>\n",
       "      <td>-0.633007</td>\n",
       "      <td>2018</td>\n",
       "      <td>4</td>\n",
       "      <td>2</td>\n",
       "      <td>12</td>\n",
       "      <td>1</td>\n",
       "      <td>53</td>\n",
       "      <td>0</td>\n",
       "      <td>14</td>\n",
       "      <td>0</td>\n",
       "      <td>0</td>\n",
       "      <td>1</td>\n",
       "      <td>92</td>\n",
       "      <td>2</td>\n",
       "      <td>0</td>\n",
       "      <td>0</td>\n",
       "      <td>0</td>\n",
       "      <td>0</td>\n",
       "      <td>0</td>\n",
       "      <td>0</td>\n",
       "      <td>0</td>\n",
       "      <td>24</td>\n",
       "      <td>731</td>\n",
       "      <td>-1</td>\n",
       "    </tr>\n",
       "    <tr>\n",
       "      <td>6</td>\n",
       "      <td>C_ID_ef55cf8d4b</td>\n",
       "      <td>2018-03-28 19:50:00</td>\n",
       "      <td>69</td>\n",
       "      <td>N</td>\n",
       "      <td>1.0</td>\n",
       "      <td>B</td>\n",
       "      <td>1</td>\n",
       "      <td>5.263697</td>\n",
       "      <td>2018</td>\n",
       "      <td>3</td>\n",
       "      <td>28</td>\n",
       "      <td>19</td>\n",
       "      <td>2</td>\n",
       "      <td>50</td>\n",
       "      <td>0</td>\n",
       "      <td>13</td>\n",
       "      <td>2</td>\n",
       "      <td>0</td>\n",
       "      <td>1</td>\n",
       "      <td>87</td>\n",
       "      <td>1</td>\n",
       "      <td>0</td>\n",
       "      <td>0</td>\n",
       "      <td>0</td>\n",
       "      <td>0</td>\n",
       "      <td>0</td>\n",
       "      <td>0</td>\n",
       "      <td>0</td>\n",
       "      <td>24</td>\n",
       "      <td>735</td>\n",
       "      <td>-1</td>\n",
       "    </tr>\n",
       "    <tr>\n",
       "      <td>7</td>\n",
       "      <td>C_ID_ef55cf8d4b</td>\n",
       "      <td>2018-04-05 08:06:00</td>\n",
       "      <td>231</td>\n",
       "      <td>N</td>\n",
       "      <td>1.0</td>\n",
       "      <td>B</td>\n",
       "      <td>2</td>\n",
       "      <td>-0.553787</td>\n",
       "      <td>2018</td>\n",
       "      <td>4</td>\n",
       "      <td>5</td>\n",
       "      <td>8</td>\n",
       "      <td>0</td>\n",
       "      <td>6</td>\n",
       "      <td>0</td>\n",
       "      <td>14</td>\n",
       "      <td>3</td>\n",
       "      <td>0</td>\n",
       "      <td>1</td>\n",
       "      <td>95</td>\n",
       "      <td>2</td>\n",
       "      <td>0</td>\n",
       "      <td>0</td>\n",
       "      <td>0</td>\n",
       "      <td>0</td>\n",
       "      <td>0</td>\n",
       "      <td>0</td>\n",
       "      <td>0</td>\n",
       "      <td>24</td>\n",
       "      <td>728</td>\n",
       "      <td>-1</td>\n",
       "    </tr>\n",
       "    <tr>\n",
       "      <td>8</td>\n",
       "      <td>C_ID_ef55cf8d4b</td>\n",
       "      <td>2018-04-07 18:37:00</td>\n",
       "      <td>69</td>\n",
       "      <td>N</td>\n",
       "      <td>1.0</td>\n",
       "      <td>B</td>\n",
       "      <td>2</td>\n",
       "      <td>-0.596643</td>\n",
       "      <td>2018</td>\n",
       "      <td>4</td>\n",
       "      <td>7</td>\n",
       "      <td>18</td>\n",
       "      <td>2</td>\n",
       "      <td>37</td>\n",
       "      <td>0</td>\n",
       "      <td>14</td>\n",
       "      <td>5</td>\n",
       "      <td>1</td>\n",
       "      <td>0</td>\n",
       "      <td>97</td>\n",
       "      <td>2</td>\n",
       "      <td>0</td>\n",
       "      <td>0</td>\n",
       "      <td>0</td>\n",
       "      <td>0</td>\n",
       "      <td>0</td>\n",
       "      <td>0</td>\n",
       "      <td>0</td>\n",
       "      <td>24</td>\n",
       "      <td>725</td>\n",
       "      <td>-1</td>\n",
       "    </tr>\n",
       "    <tr>\n",
       "      <td>9</td>\n",
       "      <td>C_ID_ef55cf8d4b</td>\n",
       "      <td>2018-03-17 18:10:00</td>\n",
       "      <td>69</td>\n",
       "      <td>N</td>\n",
       "      <td>1.0</td>\n",
       "      <td>B</td>\n",
       "      <td>1</td>\n",
       "      <td>-0.607191</td>\n",
       "      <td>2018</td>\n",
       "      <td>3</td>\n",
       "      <td>17</td>\n",
       "      <td>18</td>\n",
       "      <td>2</td>\n",
       "      <td>10</td>\n",
       "      <td>0</td>\n",
       "      <td>11</td>\n",
       "      <td>5</td>\n",
       "      <td>1</td>\n",
       "      <td>0</td>\n",
       "      <td>76</td>\n",
       "      <td>1</td>\n",
       "      <td>0</td>\n",
       "      <td>0</td>\n",
       "      <td>0</td>\n",
       "      <td>0</td>\n",
       "      <td>0</td>\n",
       "      <td>0</td>\n",
       "      <td>0</td>\n",
       "      <td>24</td>\n",
       "      <td>746</td>\n",
       "      <td>-1</td>\n",
       "    </tr>\n",
       "  </tbody>\n",
       "</table>\n",
       "</div>"
      ],
      "text/plain": [
       "           card_id       purchase_date  city_id category_1  category_2  \\\n",
       "0  C_ID_415bb3a509 2018-03-11 14:57:00      107          N         1.0   \n",
       "1  C_ID_415bb3a509 2018-03-19 18:53:00      140          N         1.0   \n",
       "2  C_ID_415bb3a509 2018-04-26 14:08:00      330          N         1.0   \n",
       "3  C_ID_415bb3a509 2018-03-07 09:43:00       -1          Y         NaN   \n",
       "4  C_ID_ef55cf8d4b 2018-03-22 21:07:00       -1          Y         NaN   \n",
       "5  C_ID_ef55cf8d4b 2018-04-02 12:53:00      231          N         1.0   \n",
       "6  C_ID_ef55cf8d4b 2018-03-28 19:50:00       69          N         1.0   \n",
       "7  C_ID_ef55cf8d4b 2018-04-05 08:06:00      231          N         1.0   \n",
       "8  C_ID_ef55cf8d4b 2018-04-07 18:37:00       69          N         1.0   \n",
       "9  C_ID_ef55cf8d4b 2018-03-17 18:10:00       69          N         1.0   \n",
       "\n",
       "  category_3  month_lag  purchase_amount  year  month  day  hour  session  \\\n",
       "0          B          1        -0.557574  2018      3   11    14        1   \n",
       "1          B          1        -0.569580  2018      3   19    18        2   \n",
       "2          B          2        -0.551037  2018      4   26    14        1   \n",
       "3          B          1        -0.671926  2018      3    7     9        0   \n",
       "4          B          1        -0.659904  2018      3   22    21        3   \n",
       "5          B          2        -0.633007  2018      4    2    12        1   \n",
       "6          B          1         5.263697  2018      3   28    19        2   \n",
       "7          B          2        -0.553787  2018      4    5     8        0   \n",
       "8          B          2        -0.596643  2018      4    7    18        2   \n",
       "9          B          1        -0.607191  2018      3   17    18        2   \n",
       "\n",
       "   minute  second  week  dayofweek  isWeekend  isWeekday  dayofyear  quarter  \\\n",
       "0      57       0    10          6          1          0         70        1   \n",
       "1      53       0    12          0          0          1         78        1   \n",
       "2       8       0    17          3          0          1        116        2   \n",
       "3      43       0    10          2          0          1         66        1   \n",
       "4       7       0    12          3          0          1         81        1   \n",
       "5      53       0    14          0          0          1         92        2   \n",
       "6      50       0    13          2          0          1         87        1   \n",
       "7       6       0    14          3          0          1         95        2   \n",
       "8      37       0    14          5          1          0         97        2   \n",
       "9      10       0    11          5          1          0         76        1   \n",
       "\n",
       "   isMonthStart  isMonthEnd  isQuarterStart  isQuarterEnd  isYearStart  \\\n",
       "0             0           0               0             0            0   \n",
       "1             0           0               0             0            0   \n",
       "2             0           0               0             0            0   \n",
       "3             0           0               0             0            0   \n",
       "4             0           0               0             0            0   \n",
       "5             0           0               0             0            0   \n",
       "6             0           0               0             0            0   \n",
       "7             0           0               0             0            0   \n",
       "8             0           0               0             0            0   \n",
       "9             0           0               0             0            0   \n",
       "\n",
       "   isYearEnd  isLeapYear  monthDifferenceFromToday  dayDifferenceFromToday  \\\n",
       "0          0           0                        25                     753   \n",
       "1          0           0                        24                     744   \n",
       "2          0           0                        23                     707   \n",
       "3          0           0                        25                     757   \n",
       "4          0           0                        24                     741   \n",
       "5          0           0                        24                     731   \n",
       "6          0           0                        24                     735   \n",
       "7          0           0                        24                     728   \n",
       "8          0           0                        24                     725   \n",
       "9          0           0                        24                     746   \n",
       "\n",
       "   blackFriday2017  \n",
       "0               -1  \n",
       "1               -1  \n",
       "2               -1  \n",
       "3               -1  \n",
       "4               -1  \n",
       "5               -1  \n",
       "6               -1  \n",
       "7               -1  \n",
       "8               -1  \n",
       "9               -1  "
      ]
     },
     "execution_count": 25,
     "metadata": {},
     "output_type": "execute_result"
    }
   ],
   "source": [
    "data.head(10)"
   ]
  },
  {
   "cell_type": "markdown",
   "metadata": {},
   "source": [
    "### Boom!\n",
    "\n",
    "**23** new features from a single column"
   ]
  },
  {
   "cell_type": "markdown",
   "metadata": {},
   "source": [
    "### Let's plot some figures"
   ]
  },
  {
   "cell_type": "code",
   "execution_count": 26,
   "metadata": {},
   "outputs": [
    {
     "data": {
      "image/png": "[encoded data removed]",
      "text/plain": [
       "<matplotlib.figure.Figure at 0x159bdcbf710>"
      ]
     },
     "metadata": {},
     "output_type": "display_data"
    }
   ],
   "source": [
    "fig, ax = plt.subplots(3, 4, figsize=(30, 15))\n",
    "data.groupby('year').count()['purchase_amount'].plot(kind='bar',title='purchase count: year',ax=ax[0,0]);\n",
    "data.groupby('quarter').count()['purchase_amount'].plot(kind='bar',title='purchase count: year quarter',ax=ax[0,1]);\n",
    "data.groupby('month').count()['purchase_amount'].plot(kind='line',title='purchase count: month',ax=ax[0,2]);\n",
    "data.groupby('week').count()['purchase_amount'].plot(kind='line',title='purchase count: week',ax=ax[0,3]);\n",
    "data.groupby('day').count()['purchase_amount'].plot(kind='line',title='purchase count: day',ax=ax[1,0]);\n",
    "data.groupby('dayofweek').count()['purchase_amount'].plot(kind='line',title='purchase count: day of week',ax=ax[1,1]);\n",
    "data.groupby('hour').count()['purchase_amount'].plot(kind='line',title='purchase count: hour',ax=ax[1,2]);\n",
    "data.groupby('session').count()['purchase_amount'].plot(kind='pie',title='purchase count: hour session',ax=ax[1,3]);\n",
    "data.groupby('minute').count()['purchase_amount'].plot(kind='line',title='purchase count: minute',ax=ax[2,0]);\n",
    "data.groupby('isWeekend').count()['purchase_amount'].plot(kind='pie',title='purchase count: weekend?',ax=ax[2,1]);\n",
    "data.groupby('isMonthStart').count()['purchase_amount'].plot(kind='pie',title='purchase count: start of month?',ax=ax[2,2]);\n",
    "data.groupby('isMonthEnd').count()['purchase_amount'].plot(kind='pie',title='purchase count: end of month?',ax=ax[2,3]);"
   ]
  },
  {
   "cell_type": "code",
   "execution_count": null,
   "metadata": {},
   "outputs": [],
   "source": []
  }
 ],
 "metadata": {
  "kernelspec": {
   "display_name": "Python 3",
   "language": "python",
   "name": "python3"
  },
  "language_info": {
   "codemirror_mode": {
    "name": "ipython",
    "version": 3
   },
   "file_extension": ".py",
   "mimetype": "text/x-python",
   "name": "python",
   "nbconvert_exporter": "python",
   "pygments_lexer": "ipython3",
   "version": "3.8.5"
  }
 },
 "nbformat": 4,
 "nbformat_minor": 4
}
