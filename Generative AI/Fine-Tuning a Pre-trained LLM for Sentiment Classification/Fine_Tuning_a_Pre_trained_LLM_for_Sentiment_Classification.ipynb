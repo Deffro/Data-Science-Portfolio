{
  "nbformat": 4,
  "nbformat_minor": 0,
  "metadata": {
    "colab": {
      "provenance": [],
      "gpuType": "T4"
    },
    "kernelspec": {
      "name": "python3",
      "display_name": "Python 3"
    },
    "language_info": {
      "name": "python"
    },
    "accelerator": "GPU",
    "widgets": {
      "application/vnd.jupyter.widget-state+json": {
        "6a40be39980148f78d581b6089c23bf9": {
          "model_module": "@jupyter-widgets/controls",
          "model_name": "HBoxModel",
          "model_module_version": "1.5.0",
          "state": {
            "_dom_classes": [],
            "_model_module": "@jupyter-widgets/controls",
            "_model_module_version": "1.5.0",
            "_model_name": "HBoxModel",
            "_view_count": null,
            "_view_module": "@jupyter-widgets/controls",
            "_view_module_version": "1.5.0",
            "_view_name": "HBoxView",
            "box_style": "",
            "children": [
              "IPY_MODEL_89453c1460074aabbae5542f331e67cc",
              "IPY_MODEL_77420eef9ab94f27a61c6dd133b428e2",
              "IPY_MODEL_19066a1432f945aaa97c7bf364d7085c"
            ],
            "layout": "IPY_MODEL_fd5768a877a94384a27d7ee4b49d6564"
          }
        },
        "89453c1460074aabbae5542f331e67cc": {
          "model_module": "@jupyter-widgets/controls",
          "model_name": "HTMLModel",
          "model_module_version": "1.5.0",
          "state": {
            "_dom_classes": [],
            "_model_module": "@jupyter-widgets/controls",
            "_model_module_version": "1.5.0",
            "_model_name": "HTMLModel",
            "_view_count": null,
            "_view_module": "@jupyter-widgets/controls",
            "_view_module_version": "1.5.0",
            "_view_name": "HTMLView",
            "description": "",
            "description_tooltip": null,
            "layout": "IPY_MODEL_941fc80511f543cb92c270a1df0927ce",
            "placeholder": "​",
            "style": "IPY_MODEL_506e976e9a194404802f076970457b2e",
            "value": "Map: 100%"
          }
        },
        "77420eef9ab94f27a61c6dd133b428e2": {
          "model_module": "@jupyter-widgets/controls",
          "model_name": "FloatProgressModel",
          "model_module_version": "1.5.0",
          "state": {
            "_dom_classes": [],
            "_model_module": "@jupyter-widgets/controls",
            "_model_module_version": "1.5.0",
            "_model_name": "FloatProgressModel",
            "_view_count": null,
            "_view_module": "@jupyter-widgets/controls",
            "_view_module_version": "1.5.0",
            "_view_name": "ProgressView",
            "bar_style": "success",
            "description": "",
            "description_tooltip": null,
            "layout": "IPY_MODEL_21e20e55e61449c58ee83990d24dbdae",
            "max": 3016,
            "min": 0,
            "orientation": "horizontal",
            "style": "IPY_MODEL_9b5824d356334da88add1ad8aa70bed4",
            "value": 3016
          }
        },
        "19066a1432f945aaa97c7bf364d7085c": {
          "model_module": "@jupyter-widgets/controls",
          "model_name": "HTMLModel",
          "model_module_version": "1.5.0",
          "state": {
            "_dom_classes": [],
            "_model_module": "@jupyter-widgets/controls",
            "_model_module_version": "1.5.0",
            "_model_name": "HTMLModel",
            "_view_count": null,
            "_view_module": "@jupyter-widgets/controls",
            "_view_module_version": "1.5.0",
            "_view_name": "HTMLView",
            "description": "",
            "description_tooltip": null,
            "layout": "IPY_MODEL_270bda71191a45fcafec673f1f389215",
            "placeholder": "​",
            "style": "IPY_MODEL_ddb4ea7d117f4f59911f8df61d18f845",
            "value": " 3016/3016 [00:00&lt;00:00, 6259.02 examples/s]"
          }
        },
        "fd5768a877a94384a27d7ee4b49d6564": {
          "model_module": "@jupyter-widgets/base",
          "model_name": "LayoutModel",
          "model_module_version": "1.2.0",
          "state": {
            "_model_module": "@jupyter-widgets/base",
            "_model_module_version": "1.2.0",
            "_model_name": "LayoutModel",
            "_view_count": null,
            "_view_module": "@jupyter-widgets/base",
            "_view_module_version": "1.2.0",
            "_view_name": "LayoutView",
            "align_content": null,
            "align_items": null,
            "align_self": null,
            "border": null,
            "bottom": null,
            "display": null,
            "flex": null,
            "flex_flow": null,
            "grid_area": null,
            "grid_auto_columns": null,
            "grid_auto_flow": null,
            "grid_auto_rows": null,
            "grid_column": null,
            "grid_gap": null,
            "grid_row": null,
            "grid_template_areas": null,
            "grid_template_columns": null,
            "grid_template_rows": null,
            "height": null,
            "justify_content": null,
            "justify_items": null,
            "left": null,
            "margin": null,
            "max_height": null,
            "max_width": null,
            "min_height": null,
            "min_width": null,
            "object_fit": null,
            "object_position": null,
            "order": null,
            "overflow": null,
            "overflow_x": null,
            "overflow_y": null,
            "padding": null,
            "right": null,
            "top": null,
            "visibility": null,
            "width": null
          }
        },
        "941fc80511f543cb92c270a1df0927ce": {
          "model_module": "@jupyter-widgets/base",
          "model_name": "LayoutModel",
          "model_module_version": "1.2.0",
          "state": {
            "_model_module": "@jupyter-widgets/base",
            "_model_module_version": "1.2.0",
            "_model_name": "LayoutModel",
            "_view_count": null,
            "_view_module": "@jupyter-widgets/base",
            "_view_module_version": "1.2.0",
            "_view_name": "LayoutView",
            "align_content": null,
            "align_items": null,
            "align_self": null,
            "border": null,
            "bottom": null,
            "display": null,
            "flex": null,
            "flex_flow": null,
            "grid_area": null,
            "grid_auto_columns": null,
            "grid_auto_flow": null,
            "grid_auto_rows": null,
            "grid_column": null,
            "grid_gap": null,
            "grid_row": null,
            "grid_template_areas": null,
            "grid_template_columns": null,
            "grid_template_rows": null,
            "height": null,
            "justify_content": null,
            "justify_items": null,
            "left": null,
            "margin": null,
            "max_height": null,
            "max_width": null,
            "min_height": null,
            "min_width": null,
            "object_fit": null,
            "object_position": null,
            "order": null,
            "overflow": null,
            "overflow_x": null,
            "overflow_y": null,
            "padding": null,
            "right": null,
            "top": null,
            "visibility": null,
            "width": null
          }
        },
        "506e976e9a194404802f076970457b2e": {
          "model_module": "@jupyter-widgets/controls",
          "model_name": "DescriptionStyleModel",
          "model_module_version": "1.5.0",
          "state": {
            "_model_module": "@jupyter-widgets/controls",
            "_model_module_version": "1.5.0",
            "_model_name": "DescriptionStyleModel",
            "_view_count": null,
            "_view_module": "@jupyter-widgets/base",
            "_view_module_version": "1.2.0",
            "_view_name": "StyleView",
            "description_width": ""
          }
        },
        "21e20e55e61449c58ee83990d24dbdae": {
          "model_module": "@jupyter-widgets/base",
          "model_name": "LayoutModel",
          "model_module_version": "1.2.0",
          "state": {
            "_model_module": "@jupyter-widgets/base",
            "_model_module_version": "1.2.0",
            "_model_name": "LayoutModel",
            "_view_count": null,
            "_view_module": "@jupyter-widgets/base",
            "_view_module_version": "1.2.0",
            "_view_name": "LayoutView",
            "align_content": null,
            "align_items": null,
            "align_self": null,
            "border": null,
            "bottom": null,
            "display": null,
            "flex": null,
            "flex_flow": null,
            "grid_area": null,
            "grid_auto_columns": null,
            "grid_auto_flow": null,
            "grid_auto_rows": null,
            "grid_column": null,
            "grid_gap": null,
            "grid_row": null,
            "grid_template_areas": null,
            "grid_template_columns": null,
            "grid_template_rows": null,
            "height": null,
            "justify_content": null,
            "justify_items": null,
            "left": null,
            "margin": null,
            "max_height": null,
            "max_width": null,
            "min_height": null,
            "min_width": null,
            "object_fit": null,
            "object_position": null,
            "order": null,
            "overflow": null,
            "overflow_x": null,
            "overflow_y": null,
            "padding": null,
            "right": null,
            "top": null,
            "visibility": null,
            "width": null
          }
        },
        "9b5824d356334da88add1ad8aa70bed4": {
          "model_module": "@jupyter-widgets/controls",
          "model_name": "ProgressStyleModel",
          "model_module_version": "1.5.0",
          "state": {
            "_model_module": "@jupyter-widgets/controls",
            "_model_module_version": "1.5.0",
            "_model_name": "ProgressStyleModel",
            "_view_count": null,
            "_view_module": "@jupyter-widgets/base",
            "_view_module_version": "1.2.0",
            "_view_name": "StyleView",
            "bar_color": null,
            "description_width": ""
          }
        },
        "270bda71191a45fcafec673f1f389215": {
          "model_module": "@jupyter-widgets/base",
          "model_name": "LayoutModel",
          "model_module_version": "1.2.0",
          "state": {
            "_model_module": "@jupyter-widgets/base",
            "_model_module_version": "1.2.0",
            "_model_name": "LayoutModel",
            "_view_count": null,
            "_view_module": "@jupyter-widgets/base",
            "_view_module_version": "1.2.0",
            "_view_name": "LayoutView",
            "align_content": null,
            "align_items": null,
            "align_self": null,
            "border": null,
            "bottom": null,
            "display": null,
            "flex": null,
            "flex_flow": null,
            "grid_area": null,
            "grid_auto_columns": null,
            "grid_auto_flow": null,
            "grid_auto_rows": null,
            "grid_column": null,
            "grid_gap": null,
            "grid_row": null,
            "grid_template_areas": null,
            "grid_template_columns": null,
            "grid_template_rows": null,
            "height": null,
            "justify_content": null,
            "justify_items": null,
            "left": null,
            "margin": null,
            "max_height": null,
            "max_width": null,
            "min_height": null,
            "min_width": null,
            "object_fit": null,
            "object_position": null,
            "order": null,
            "overflow": null,
            "overflow_x": null,
            "overflow_y": null,
            "padding": null,
            "right": null,
            "top": null,
            "visibility": null,
            "width": null
          }
        },
        "ddb4ea7d117f4f59911f8df61d18f845": {
          "model_module": "@jupyter-widgets/controls",
          "model_name": "DescriptionStyleModel",
          "model_module_version": "1.5.0",
          "state": {
            "_model_module": "@jupyter-widgets/controls",
            "_model_module_version": "1.5.0",
            "_model_name": "DescriptionStyleModel",
            "_view_count": null,
            "_view_module": "@jupyter-widgets/base",
            "_view_module_version": "1.2.0",
            "_view_name": "StyleView",
            "description_width": ""
          }
        },
        "d6b2c9348f8248eb950c028e7afa1e61": {
          "model_module": "@jupyter-widgets/controls",
          "model_name": "HBoxModel",
          "model_module_version": "1.5.0",
          "state": {
            "_dom_classes": [],
            "_model_module": "@jupyter-widgets/controls",
            "_model_module_version": "1.5.0",
            "_model_name": "HBoxModel",
            "_view_count": null,
            "_view_module": "@jupyter-widgets/controls",
            "_view_module_version": "1.5.0",
            "_view_name": "HBoxView",
            "box_style": "",
            "children": [
              "IPY_MODEL_b4cddf7d0b8347888393b6f6289a8c6c",
              "IPY_MODEL_461ae144cf6242c39916b49f6ba88199",
              "IPY_MODEL_b43601e063bb450fac2bb9cda3480fec"
            ],
            "layout": "IPY_MODEL_acfae069a722439996cc154391502df1"
          }
        },
        "b4cddf7d0b8347888393b6f6289a8c6c": {
          "model_module": "@jupyter-widgets/controls",
          "model_name": "HTMLModel",
          "model_module_version": "1.5.0",
          "state": {
            "_dom_classes": [],
            "_model_module": "@jupyter-widgets/controls",
            "_model_module_version": "1.5.0",
            "_model_name": "HTMLModel",
            "_view_count": null,
            "_view_module": "@jupyter-widgets/controls",
            "_view_module_version": "1.5.0",
            "_view_name": "HTMLView",
            "description": "",
            "description_tooltip": null,
            "layout": "IPY_MODEL_b23f566d6db141e497ec1270e5e3f039",
            "placeholder": "​",
            "style": "IPY_MODEL_fd26e00a0f8045489492a20d9361259c",
            "value": "Map: 100%"
          }
        },
        "461ae144cf6242c39916b49f6ba88199": {
          "model_module": "@jupyter-widgets/controls",
          "model_name": "FloatProgressModel",
          "model_module_version": "1.5.0",
          "state": {
            "_dom_classes": [],
            "_model_module": "@jupyter-widgets/controls",
            "_model_module_version": "1.5.0",
            "_model_name": "FloatProgressModel",
            "_view_count": null,
            "_view_module": "@jupyter-widgets/controls",
            "_view_module_version": "1.5.0",
            "_view_name": "ProgressView",
            "bar_style": "success",
            "description": "",
            "description_tooltip": null,
            "layout": "IPY_MODEL_13a2346e184b4f29a8342401ea66dc00",
            "max": 754,
            "min": 0,
            "orientation": "horizontal",
            "style": "IPY_MODEL_80d5584aeeca487bac7292c446add11d",
            "value": 754
          }
        },
        "b43601e063bb450fac2bb9cda3480fec": {
          "model_module": "@jupyter-widgets/controls",
          "model_name": "HTMLModel",
          "model_module_version": "1.5.0",
          "state": {
            "_dom_classes": [],
            "_model_module": "@jupyter-widgets/controls",
            "_model_module_version": "1.5.0",
            "_model_name": "HTMLModel",
            "_view_count": null,
            "_view_module": "@jupyter-widgets/controls",
            "_view_module_version": "1.5.0",
            "_view_name": "HTMLView",
            "description": "",
            "description_tooltip": null,
            "layout": "IPY_MODEL_5d3c4de1eb9c4018a0c76b04c693629c",
            "placeholder": "​",
            "style": "IPY_MODEL_d9c40ddde3d24446946ce30bba1a21d9",
            "value": " 754/754 [00:00&lt;00:00, 5992.78 examples/s]"
          }
        },
        "acfae069a722439996cc154391502df1": {
          "model_module": "@jupyter-widgets/base",
          "model_name": "LayoutModel",
          "model_module_version": "1.2.0",
          "state": {
            "_model_module": "@jupyter-widgets/base",
            "_model_module_version": "1.2.0",
            "_model_name": "LayoutModel",
            "_view_count": null,
            "_view_module": "@jupyter-widgets/base",
            "_view_module_version": "1.2.0",
            "_view_name": "LayoutView",
            "align_content": null,
            "align_items": null,
            "align_self": null,
            "border": null,
            "bottom": null,
            "display": null,
            "flex": null,
            "flex_flow": null,
            "grid_area": null,
            "grid_auto_columns": null,
            "grid_auto_flow": null,
            "grid_auto_rows": null,
            "grid_column": null,
            "grid_gap": null,
            "grid_row": null,
            "grid_template_areas": null,
            "grid_template_columns": null,
            "grid_template_rows": null,
            "height": null,
            "justify_content": null,
            "justify_items": null,
            "left": null,
            "margin": null,
            "max_height": null,
            "max_width": null,
            "min_height": null,
            "min_width": null,
            "object_fit": null,
            "object_position": null,
            "order": null,
            "overflow": null,
            "overflow_x": null,
            "overflow_y": null,
            "padding": null,
            "right": null,
            "top": null,
            "visibility": null,
            "width": null
          }
        },
        "b23f566d6db141e497ec1270e5e3f039": {
          "model_module": "@jupyter-widgets/base",
          "model_name": "LayoutModel",
          "model_module_version": "1.2.0",
          "state": {
            "_model_module": "@jupyter-widgets/base",
            "_model_module_version": "1.2.0",
            "_model_name": "LayoutModel",
            "_view_count": null,
            "_view_module": "@jupyter-widgets/base",
            "_view_module_version": "1.2.0",
            "_view_name": "LayoutView",
            "align_content": null,
            "align_items": null,
            "align_self": null,
            "border": null,
            "bottom": null,
            "display": null,
            "flex": null,
            "flex_flow": null,
            "grid_area": null,
            "grid_auto_columns": null,
            "grid_auto_flow": null,
            "grid_auto_rows": null,
            "grid_column": null,
            "grid_gap": null,
            "grid_row": null,
            "grid_template_areas": null,
            "grid_template_columns": null,
            "grid_template_rows": null,
            "height": null,
            "justify_content": null,
            "justify_items": null,
            "left": null,
            "margin": null,
            "max_height": null,
            "max_width": null,
            "min_height": null,
            "min_width": null,
            "object_fit": null,
            "object_position": null,
            "order": null,
            "overflow": null,
            "overflow_x": null,
            "overflow_y": null,
            "padding": null,
            "right": null,
            "top": null,
            "visibility": null,
            "width": null
          }
        },
        "fd26e00a0f8045489492a20d9361259c": {
          "model_module": "@jupyter-widgets/controls",
          "model_name": "DescriptionStyleModel",
          "model_module_version": "1.5.0",
          "state": {
            "_model_module": "@jupyter-widgets/controls",
            "_model_module_version": "1.5.0",
            "_model_name": "DescriptionStyleModel",
            "_view_count": null,
            "_view_module": "@jupyter-widgets/base",
            "_view_module_version": "1.2.0",
            "_view_name": "StyleView",
            "description_width": ""
          }
        },
        "13a2346e184b4f29a8342401ea66dc00": {
          "model_module": "@jupyter-widgets/base",
          "model_name": "LayoutModel",
          "model_module_version": "1.2.0",
          "state": {
            "_model_module": "@jupyter-widgets/base",
            "_model_module_version": "1.2.0",
            "_model_name": "LayoutModel",
            "_view_count": null,
            "_view_module": "@jupyter-widgets/base",
            "_view_module_version": "1.2.0",
            "_view_name": "LayoutView",
            "align_content": null,
            "align_items": null,
            "align_self": null,
            "border": null,
            "bottom": null,
            "display": null,
            "flex": null,
            "flex_flow": null,
            "grid_area": null,
            "grid_auto_columns": null,
            "grid_auto_flow": null,
            "grid_auto_rows": null,
            "grid_column": null,
            "grid_gap": null,
            "grid_row": null,
            "grid_template_areas": null,
            "grid_template_columns": null,
            "grid_template_rows": null,
            "height": null,
            "justify_content": null,
            "justify_items": null,
            "left": null,
            "margin": null,
            "max_height": null,
            "max_width": null,
            "min_height": null,
            "min_width": null,
            "object_fit": null,
            "object_position": null,
            "order": null,
            "overflow": null,
            "overflow_x": null,
            "overflow_y": null,
            "padding": null,
            "right": null,
            "top": null,
            "visibility": null,
            "width": null
          }
        },
        "80d5584aeeca487bac7292c446add11d": {
          "model_module": "@jupyter-widgets/controls",
          "model_name": "ProgressStyleModel",
          "model_module_version": "1.5.0",
          "state": {
            "_model_module": "@jupyter-widgets/controls",
            "_model_module_version": "1.5.0",
            "_model_name": "ProgressStyleModel",
            "_view_count": null,
            "_view_module": "@jupyter-widgets/base",
            "_view_module_version": "1.2.0",
            "_view_name": "StyleView",
            "bar_color": null,
            "description_width": ""
          }
        },
        "5d3c4de1eb9c4018a0c76b04c693629c": {
          "model_module": "@jupyter-widgets/base",
          "model_name": "LayoutModel",
          "model_module_version": "1.2.0",
          "state": {
            "_model_module": "@jupyter-widgets/base",
            "_model_module_version": "1.2.0",
            "_model_name": "LayoutModel",
            "_view_count": null,
            "_view_module": "@jupyter-widgets/base",
            "_view_module_version": "1.2.0",
            "_view_name": "LayoutView",
            "align_content": null,
            "align_items": null,
            "align_self": null,
            "border": null,
            "bottom": null,
            "display": null,
            "flex": null,
            "flex_flow": null,
            "grid_area": null,
            "grid_auto_columns": null,
            "grid_auto_flow": null,
            "grid_auto_rows": null,
            "grid_column": null,
            "grid_gap": null,
            "grid_row": null,
            "grid_template_areas": null,
            "grid_template_columns": null,
            "grid_template_rows": null,
            "height": null,
            "justify_content": null,
            "justify_items": null,
            "left": null,
            "margin": null,
            "max_height": null,
            "max_width": null,
            "min_height": null,
            "min_width": null,
            "object_fit": null,
            "object_position": null,
            "order": null,
            "overflow": null,
            "overflow_x": null,
            "overflow_y": null,
            "padding": null,
            "right": null,
            "top": null,
            "visibility": null,
            "width": null
          }
        },
        "d9c40ddde3d24446946ce30bba1a21d9": {
          "model_module": "@jupyter-widgets/controls",
          "model_name": "DescriptionStyleModel",
          "model_module_version": "1.5.0",
          "state": {
            "_model_module": "@jupyter-widgets/controls",
            "_model_module_version": "1.5.0",
            "_model_name": "DescriptionStyleModel",
            "_view_count": null,
            "_view_module": "@jupyter-widgets/base",
            "_view_module_version": "1.2.0",
            "_view_name": "StyleView",
            "description_width": ""
          }
        }
      }
    }
  },
  "cells": [
    {
      "cell_type": "markdown",
      "source": [
        "<a href=\"https://github.com/Deffro/Data-Science-Portfolio/tree/master\"><img src=\"https://img.shields.io/badge/GitHub%20Repository-black?logo=github\"></a>\n",
        "[![Open In Colab](https://colab.research.google.com/assets/colab-badge.svg)](https://colab.research.google.com/drive/1xKct26SXCNQf0WffDeh5l3alMQiiftGp?usp=sharing)"
      ],
      "metadata": {
        "id": "GzqAl3looiIS"
      }
    },
    {
      "cell_type": "markdown",
      "source": [
        "In a previous tutorial called [Traditional vs. Generative AI for Sentiment Classification](https://github.com/Deffro/Data-Science-Portfolio/blob/master/Generative%20AI/Traditional%20vs.%20Generative%20AI%20for%20Sentiment%20Classification/Traditional_vs_Generative_AI_for_Sentiment_Classification.ipynb), we predicted the sentiment of product reviews from the [Flipkart Customer Review dataset](https://www.kaggle.com/datasets/kabirnagpal/flipkart-customer-review-and-rating?resource=download).\n",
        "\n",
        "We compared several methods:\n",
        "\n",
        "1. **Logistic Regression with TF-IDF**:\n",
        "   - A simple yet effective baseline using term-frequency-based features for classification.\n",
        "\n",
        "2. **Logistic Regression with Pretrained Embeddings**:\n",
        "   - Utilize advanced embedding models like `all-MiniLM-L6-v2` to generate semantic representations for training a classifier.\n",
        "\n",
        "3. **Zero-shot Classification**:\n",
        "   - Perform classification without labeled data by leveraging cosine similarity between document and label embeddings.\n",
        "\n",
        "4. **Generative Models**:\n",
        "   - Explore generative language models like `Flan-T5`, which classify text by generating responses based on a prompt.\n",
        "\n",
        "5. **Task-Specific Sentiment Models**:\n",
        "   - Leverage fine-tuned sentiment models like `juliensimon/reviews-sentiment-analysis` for domain-specific performance.\n",
        "\n",
        "Here are the results of that experiment:\n",
        "\n",
        "\n",
        "| **Method**                                   | **Labeled Data** | **Accuracy** | **Time Taken**      |\n",
        "|----------------------------------------------|------------------|--------------|---------------------|\n",
        "| Logistic Regression using TF-IDF            | Yes              | 0.87         | ~1 second           |\n",
        "| Logistic Regression with embeddings (all-MiniLM-L6-v2) | Yes              | 0.86         | ~1 minute           |\n",
        "| Logistic Regression with embeddings (all-mpnet-base-v2) | Yes              | 0.86         | ~7 minutes          |\n",
        "| Zero-shot classification (all-mpnet-base-v2) | No               | 0.78         | ~5 seconds          |\n",
        "| Classification using Generative Models (Flan-T5)        | No               | 0.86         | ~30 seconds         |\n",
        "| Task-Specific Sentiment Model (juliensimon/reviews-sentiment-analysis) | No               | 0.79         | ~4 seconds          |\n",
        "\n",
        "\n",
        "In this tutorial we will fine-tune the Task-Specific Sentiment Model (`juliensimon/reviews-sentiment-analysis`) and see if its 0.79 accuracy will improve."
      ],
      "metadata": {
        "id": "9Od7kbtultoR"
      }
    },
    {
      "cell_type": "code",
      "source": [
        "%%capture\n",
        "!pip install datasets transformers sentence-transformers evaluate"
      ],
      "metadata": {
        "id": "03ORFCR8msiL"
      },
      "execution_count": 4,
      "outputs": []
    },
    {
      "cell_type": "markdown",
      "source": [
        "We will use the same dataset and the same pre-processing."
      ],
      "metadata": {
        "id": "Bbezpshmm6Ih"
      }
    },
    {
      "cell_type": "markdown",
      "source": [
        "# Load dataset"
      ],
      "metadata": {
        "id": "iZYSk_7m8jnT"
      }
    },
    {
      "cell_type": "code",
      "execution_count": 1,
      "metadata": {
        "id": "6_ZpPrYNlHjT"
      },
      "outputs": [],
      "source": [
        "import pandas as pd\n",
        "import numpy as np\n",
        "from tqdm import tqdm\n",
        "\n",
        "data = pd.read_csv('data.csv')\n",
        "data = data[data[\"rating\"]!=4]\n",
        "data[\"label\"] = data[\"rating\"].apply(lambda x: 1 if x >= 4 else 0)\n",
        "\n",
        "# Down-sample the positive class and combine with the negative class\n",
        "data = pd.concat([\n",
        "    data[data[\"label\"] == 1].sample(n=len(data[data[\"label\"] == 0]), random_state=1),\n",
        "    data[data[\"label\"] == 0]\n",
        "])\n",
        "\n",
        "# Shuffle the resulting dataset\n",
        "data = data.sample(frac=1, random_state=1).reset_index(drop=True)\n",
        "\n",
        "# data split\n",
        "train = data[:int(0.8*len(data))]\n",
        "test = data[int(0.8*len(data)):].reset_index(drop=True)\n",
        "\n",
        "y_test = test['label']"
      ]
    },
    {
      "cell_type": "markdown",
      "source": [
        "# Task-Specific Model\n",
        "\n",
        "We use the pre-trained task-specific sentiment model `juliensimon/reviews-sentiment-analysis` from Hugging Face's Model Hub.\n",
        "\n",
        "- Load the model pipeline.\n",
        "- Convert the test data into a compatible Hugging Face Dataset.\n",
        "- Perform sentiment classification on the test set."
      ],
      "metadata": {
        "id": "u0N7Vbg68nVm"
      }
    },
    {
      "cell_type": "code",
      "source": [
        "from transformers import pipeline\n",
        "\n",
        "model_path = \"juliensimon/reviews-sentiment-analysis\"\n",
        "\n",
        "# Load model into pipeline\n",
        "pipe = pipeline(\n",
        "    model=model_path,\n",
        "    tokenizer=model_path,\n",
        "    device=0\n",
        ")"
      ],
      "metadata": {
        "id": "yyD57ZTbsSQi"
      },
      "execution_count": null,
      "outputs": []
    },
    {
      "cell_type": "code",
      "source": [
        "from datasets import Dataset\n",
        "from sklearn.metrics import classification_report, f1_score\n",
        "from transformers.pipelines.pt_utils import KeyDataset\n",
        "\n",
        "# Convert pandas DataFrame to datasets.Dataset for compatibility with Hugging Face\n",
        "dataset = Dataset.from_pandas(test)\n",
        "\n",
        "y_pred = []\n",
        "\n",
        "# Run inference on the test set\n",
        "for output in tqdm(pipe(KeyDataset(dataset, key=\"review\"))):\n",
        "    label = output[\"label\"]\n",
        "    # Map textual output to numerical labels\n",
        "    y_pred.append(0 if \"0\" in label else 1)\n",
        "\n",
        "print(\"Classification Report:\")\n",
        "print(classification_report(y_test, y_pred))"
      ],
      "metadata": {
        "colab": {
          "base_uri": "https://localhost:8080/"
        },
        "id": "VFDtFnxZsSyQ",
        "outputId": "03dd924c-9303-4e95-d052-2d589849c5cf"
      },
      "execution_count": 5,
      "outputs": [
        {
          "output_type": "stream",
          "name": "stderr",
          "text": [
            "100%|██████████| 754/754 [00:10<00:00, 71.62it/s]"
          ]
        },
        {
          "output_type": "stream",
          "name": "stdout",
          "text": [
            "Classification Report:\n",
            "              precision    recall  f1-score   support\n",
            "\n",
            "           0       0.73      0.91      0.81       360\n",
            "           1       0.89      0.69      0.78       394\n",
            "\n",
            "    accuracy                           0.79       754\n",
            "   macro avg       0.81      0.80      0.79       754\n",
            "weighted avg       0.81      0.79      0.79       754\n",
            "\n"
          ]
        },
        {
          "output_type": "stream",
          "name": "stderr",
          "text": [
            "\n"
          ]
        }
      ]
    },
    {
      "cell_type": "markdown",
      "source": [
        "We got an accuracy of 79%."
      ],
      "metadata": {
        "id": "2PGKDwd483lg"
      }
    },
    {
      "cell_type": "markdown",
      "source": [
        "# Fine-Tuning the model\n",
        "\n",
        "- **Load Model and Tokenizer**: We use the same `juliensimon/reviews-sentiment-analysis` model.\n",
        "- **Prepare the Data**: Tokenize the training and testing datasets, ensuring padding for variable-length inputs.\n",
        "- **Define Metrics**: Use the F1-score as the primary evaluation metric.\n",
        "- **Set Training Arguments**: Specify hyperparameters such as learning rate, batch size, and number of epochs.\n",
        "- **Train the Model**: Use the Hugging Face Trainer API to fine-tune the model.\n",
        "- **Evaluation**: Evaluate the model's performance on the test set.\n",
        "- **Manual Inference**: Perform manual inference to predict sentiments for individual reviews."
      ],
      "metadata": {
        "id": "fofi4ZUG89zl"
      }
    },
    {
      "cell_type": "markdown",
      "source": [
        "## Load Model and Tokenizer"
      ],
      "metadata": {
        "id": "nEJYkl8n9gLi"
      }
    },
    {
      "cell_type": "code",
      "source": [
        "from transformers import AutoTokenizer, AutoModelForSequenceClassification\n",
        "\n",
        "# Load Model and Tokenizer\n",
        "model_id = \"juliensimon/reviews-sentiment-analysis\"\n",
        "model = AutoModelForSequenceClassification.from_pretrained(model_id, num_labels=2)\n",
        "tokenizer = AutoTokenizer.from_pretrained(model_id)"
      ],
      "metadata": {
        "id": "ZmNPYWSInEeK"
      },
      "execution_count": 66,
      "outputs": []
    },
    {
      "cell_type": "markdown",
      "source": [
        "## Prepare the Data"
      ],
      "metadata": {
        "id": "UIvdH9sNoBV6"
      }
    },
    {
      "cell_type": "code",
      "source": [
        "from transformers import DataCollatorWithPadding\n",
        "\n",
        "# Pad to the longest sequence in the batch\n",
        "data_collator = DataCollatorWithPadding(tokenizer=tokenizer)\n",
        "\n",
        "# Convert pandas DataFrames to Hugging Face Dataset format\n",
        "train_dataset = Dataset.from_pandas(train)\n",
        "test_dataset = Dataset.from_pandas(test)\n",
        "\n",
        "def preprocess_function(examples):\n",
        "    \"\"\"Tokenize input data.\"\"\"\n",
        "    return tokenizer(examples[\"review\"], truncation=True)\n",
        "\n",
        "\n",
        "# Tokenize train/test data\n",
        "tokenized_train = train_dataset.map(preprocess_function, batched=True)\n",
        "tokenized_test = test_dataset.map(preprocess_function, batched=True)"
      ],
      "metadata": {
        "colab": {
          "base_uri": "https://localhost:8080/",
          "height": 81,
          "referenced_widgets": [
            "6a40be39980148f78d581b6089c23bf9",
            "89453c1460074aabbae5542f331e67cc",
            "77420eef9ab94f27a61c6dd133b428e2",
            "19066a1432f945aaa97c7bf364d7085c",
            "fd5768a877a94384a27d7ee4b49d6564",
            "941fc80511f543cb92c270a1df0927ce",
            "506e976e9a194404802f076970457b2e",
            "21e20e55e61449c58ee83990d24dbdae",
            "9b5824d356334da88add1ad8aa70bed4",
            "270bda71191a45fcafec673f1f389215",
            "ddb4ea7d117f4f59911f8df61d18f845",
            "d6b2c9348f8248eb950c028e7afa1e61",
            "b4cddf7d0b8347888393b6f6289a8c6c",
            "461ae144cf6242c39916b49f6ba88199",
            "b43601e063bb450fac2bb9cda3480fec",
            "acfae069a722439996cc154391502df1",
            "b23f566d6db141e497ec1270e5e3f039",
            "fd26e00a0f8045489492a20d9361259c",
            "13a2346e184b4f29a8342401ea66dc00",
            "80d5584aeeca487bac7292c446add11d",
            "5d3c4de1eb9c4018a0c76b04c693629c",
            "d9c40ddde3d24446946ce30bba1a21d9"
          ]
        },
        "id": "7p9RMo5zoA7O",
        "outputId": "acf4fa2d-35c4-4082-e210-cd7e88a4ae2e"
      },
      "execution_count": 67,
      "outputs": [
        {
          "output_type": "display_data",
          "data": {
            "text/plain": [
              "Map:   0%|          | 0/3016 [00:00<?, ? examples/s]"
            ],
            "application/vnd.jupyter.widget-view+json": {
              "version_major": 2,
              "version_minor": 0,
              "model_id": "6a40be39980148f78d581b6089c23bf9"
            }
          },
          "metadata": {}
        },
        {
          "output_type": "display_data",
          "data": {
            "text/plain": [
              "Map:   0%|          | 0/754 [00:00<?, ? examples/s]"
            ],
            "application/vnd.jupyter.widget-view+json": {
              "version_major": 2,
              "version_minor": 0,
              "model_id": "d6b2c9348f8248eb950c028e7afa1e61"
            }
          },
          "metadata": {}
        }
      ]
    },
    {
      "cell_type": "markdown",
      "source": [
        "## Define Metrics"
      ],
      "metadata": {
        "id": "nS6vRX7poD5A"
      }
    },
    {
      "cell_type": "code",
      "source": [
        "import numpy as np\n",
        "import evaluate\n",
        "\n",
        "def compute_metrics(eval_pred):\n",
        "    \"\"\"Calculate F1 score\"\"\"\n",
        "\n",
        "    logits, labels = eval_pred\n",
        "    predictions = np.argmax(logits, axis=-1)\n",
        "\n",
        "    f1 = f1_score(labels, predictions, average=\"binary\")\n",
        "\n",
        "    return {\"f1\": f1}"
      ],
      "metadata": {
        "id": "bYqqdSzXoFBe"
      },
      "execution_count": 68,
      "outputs": []
    },
    {
      "cell_type": "code",
      "source": [
        "print(train_dataset[0])"
      ],
      "metadata": {
        "colab": {
          "base_uri": "https://localhost:8080/"
        },
        "id": "Nw6wsO27x0Dq",
        "outputId": "446c64c9-ead5-452c-ebca-f7dcc8e35be5"
      },
      "execution_count": 69,
      "outputs": [
        {
          "output_type": "stream",
          "name": "stdout",
          "text": [
            "{'review': 'Sometimes I can only hear the songs from one side onlyREAD MORE', 'rating': 5, 'label': 1}\n"
          ]
        }
      ]
    },
    {
      "cell_type": "markdown",
      "source": [
        "## Train the model"
      ],
      "metadata": {
        "id": "axrN9aAeoGt-"
      }
    },
    {
      "cell_type": "code",
      "source": [
        "from transformers import TrainingArguments, Trainer\n",
        "\n",
        "# Training arguments for parameter tuning\n",
        "training_args = TrainingArguments(\n",
        "   \"model\",\n",
        "   learning_rate=2e-5,\n",
        "   per_device_train_batch_size=16,\n",
        "   per_device_eval_batch_size=16,\n",
        "   num_train_epochs=1,\n",
        "   weight_decay=0.01,\n",
        "   save_strategy=\"epoch\",\n",
        "   report_to=\"none\"\n",
        ")\n",
        "\n",
        "# Trainer which executes the training process\n",
        "trainer = Trainer(\n",
        "   model=model,\n",
        "   args=training_args,\n",
        "   train_dataset=tokenized_train,\n",
        "   eval_dataset=tokenized_test,\n",
        "   data_collator=data_collator,\n",
        "   compute_metrics=compute_metrics,\n",
        ")\n"
      ],
      "metadata": {
        "id": "SH3P2KGPoHqA"
      },
      "execution_count": 70,
      "outputs": []
    },
    {
      "cell_type": "code",
      "source": [
        "trainer.train()"
      ],
      "metadata": {
        "colab": {
          "base_uri": "https://localhost:8080/",
          "height": 110
        },
        "id": "YARVndznoJva",
        "outputId": "d50211fb-4e4c-4659-9843-f7967deba604"
      },
      "execution_count": 71,
      "outputs": [
        {
          "output_type": "display_data",
          "data": {
            "text/plain": [
              "<IPython.core.display.HTML object>"
            ],
            "text/html": [
              "\n",
              "    <div>\n",
              "      \n",
              "      <progress value='189' max='189' style='width:300px; height:20px; vertical-align: middle;'></progress>\n",
              "      [189/189 01:09, Epoch 1/1]\n",
              "    </div>\n",
              "    <table border=\"1\" class=\"dataframe\">\n",
              "  <thead>\n",
              " <tr style=\"text-align: left;\">\n",
              "      <th>Step</th>\n",
              "      <th>Training Loss</th>\n",
              "    </tr>\n",
              "  </thead>\n",
              "  <tbody>\n",
              "  </tbody>\n",
              "</table><p>"
            ]
          },
          "metadata": {}
        },
        {
          "output_type": "execute_result",
          "data": {
            "text/plain": [
              "TrainOutput(global_step=189, training_loss=0.32724548016906413, metrics={'train_runtime': 69.2659, 'train_samples_per_second': 43.542, 'train_steps_per_second': 2.729, 'total_flos': 67537675283520.0, 'train_loss': 0.32724548016906413, 'epoch': 1.0})"
            ]
          },
          "metadata": {},
          "execution_count": 71
        }
      ]
    },
    {
      "cell_type": "markdown",
      "source": [
        "## Evaluation"
      ],
      "metadata": {
        "id": "dSEzFmPhoLn2"
      }
    },
    {
      "cell_type": "code",
      "source": [
        "trainer.evaluate()"
      ],
      "metadata": {
        "colab": {
          "base_uri": "https://localhost:8080/",
          "height": 141
        },
        "id": "nGkITCu9oL-P",
        "outputId": "e124cf5b-da59-433e-a39a-a37bc6a3bd19"
      },
      "execution_count": 72,
      "outputs": [
        {
          "output_type": "display_data",
          "data": {
            "text/plain": [
              "<IPython.core.display.HTML object>"
            ],
            "text/html": [
              "\n",
              "    <div>\n",
              "      \n",
              "      <progress value='48' max='48' style='width:300px; height:20px; vertical-align: middle;'></progress>\n",
              "      [48/48 00:02]\n",
              "    </div>\n",
              "    "
            ]
          },
          "metadata": {}
        },
        {
          "output_type": "execute_result",
          "data": {
            "text/plain": [
              "{'eval_loss': 0.29022637009620667,\n",
              " 'eval_f1': 0.9001233045622689,\n",
              " 'eval_runtime': 2.0912,\n",
              " 'eval_samples_per_second': 360.55,\n",
              " 'eval_steps_per_second': 22.953,\n",
              " 'epoch': 1.0}"
            ]
          },
          "metadata": {},
          "execution_count": 72
        }
      ]
    },
    {
      "cell_type": "markdown",
      "source": [
        "## Manual Inference"
      ],
      "metadata": {
        "id": "8b8i9Hwg9wQC"
      }
    },
    {
      "cell_type": "code",
      "source": [
        "import torch\n",
        "\n",
        "device = torch.device(\"cuda\" if torch.cuda.is_available() else \"cpu\")\n",
        "model = model.to(device)\n",
        "\n",
        "# Inference loop\n",
        "y_pred = []\n",
        "\n",
        "for output in tqdm(tokenized_test):\n",
        "    # Extract input_ids and attention_mask\n",
        "    input_ids = torch.tensor(output[\"input_ids\"]).unsqueeze(0).to(device)\n",
        "    attention_mask = torch.tensor(output[\"attention_mask\"]).unsqueeze(0).to(device)\n",
        "\n",
        "    # Run inference\n",
        "    with torch.no_grad():  # Disable gradient computation for inference\n",
        "        logits = model(input_ids=input_ids, attention_mask=attention_mask).logits\n",
        "\n",
        "    # Get the predicted label\n",
        "    predictions = np.argmax(logits.cpu().detach().numpy(), axis=1)\n",
        "    y_pred.append(predictions[0])"
      ],
      "metadata": {
        "colab": {
          "base_uri": "https://localhost:8080/"
        },
        "id": "Xph_FKWDv1-3",
        "outputId": "12d4d5be-870b-4841-f4c7-ea9d42606972"
      },
      "execution_count": 73,
      "outputs": [
        {
          "output_type": "stream",
          "name": "stderr",
          "text": [
            "100%|██████████| 754/754 [00:03<00:00, 226.85it/s]\n"
          ]
        }
      ]
    },
    {
      "cell_type": "code",
      "source": [
        "print(\"Classification Report:\")\n",
        "print(classification_report(y_test, y_pred))"
      ],
      "metadata": {
        "colab": {
          "base_uri": "https://localhost:8080/"
        },
        "id": "RtMEL_TJ0-YX",
        "outputId": "421dac9d-5737-4604-f594-777aac7399cf"
      },
      "execution_count": 74,
      "outputs": [
        {
          "output_type": "stream",
          "name": "stdout",
          "text": [
            "Classification Report:\n",
            "              precision    recall  f1-score   support\n",
            "\n",
            "           0       0.91      0.86      0.88       360\n",
            "           1       0.88      0.93      0.90       394\n",
            "\n",
            "    accuracy                           0.89       754\n",
            "   macro avg       0.89      0.89      0.89       754\n",
            "weighted avg       0.89      0.89      0.89       754\n",
            "\n"
          ]
        }
      ]
    },
    {
      "cell_type": "markdown",
      "source": [
        "The accuracy is now 89%, a 10% increase from the base model!"
      ],
      "metadata": {
        "id": "IB7p1rxk9zew"
      }
    }
  ]
}